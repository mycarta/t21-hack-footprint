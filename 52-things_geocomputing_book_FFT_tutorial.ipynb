{
 "cells": [
  {
   "cell_type": "markdown",
   "metadata": {},
   "source": [
    "### Background and history\n",
    "*COMING SOON*"
   ]
  },
  {
   "cell_type": "markdown",
   "metadata": {},
   "source": [
    "### Justification\n",
    "*COMING SOON*"
   ]
  },
  {
   "cell_type": "markdown",
   "metadata": {},
   "source": [
    "### Objectives\n",
    "*COMING SOON*"
   ]
  },
  {
   "cell_type": "markdown",
   "metadata": {},
   "source": [
    "### Workflow\n",
    "\n",
    "*COMING SOON*"
   ]
  },
  {
   "cell_type": "markdown",
   "metadata": {},
   "source": [
    "### Suggested reading (prior to running the tutorial)\n",
    "\n",
    "- [A mathematical review of the Fourier transform - SEG Wiki](https://wiki.seg.org/wiki/A_mathematical_review_of_the_Fourier_transform)\n",
    "- [An Intuitive Explanation of Fourier Theory](https://www.semanticscholar.org/paper/An-Intuitive-Explanation-of-Fourier-Theory-Lehar/3d67a901be76a2258db924799bd88e258032bb6b)\n",
    "- [The 1-D Fourier transform - SEG Wiki](https://wiki.seg.org/wiki/The_1-D_Fourier_transform)\n",
    "- [The 2-D Fourier transform - SEG Wiki](https://wiki.seg.org/wiki/The_2-D_Fourier_transform)\n",
    "- [Elegant SciPy - Chapter 4: Frequency and the Fast Fourier Transform](https://www.oreilly.com/library/view/elegant-scipy/9781491922927/ch04.html)"
   ]
  },
  {
   "cell_type": "markdown",
   "metadata": {},
   "source": [
    "### Import all necessary packages"
   ]
  },
  {
   "cell_type": "code",
   "execution_count": 1,
   "metadata": {
    "slideshow": {
     "slide_type": "slide"
    }
   },
   "outputs": [],
   "source": [
    "import numpy as np\n",
    "import scipy as sp\n",
    "from scipy import ndimage as ndi\n",
    "from scipy import signal\n",
    "from numpy.fft import fft2, ifft2, fftshift, ifftshift\n",
    "from kneed import KneeLocator\n",
    "import skimage.morphology as morph\n",
    "from skimage import io, exposure\n",
    "from skimage.util import img_as_float\n",
    "from skimage.filters import gaussian\n",
    "from skimage.filters.rank import entropy\n",
    "from skimage.color import rgb2gray\n",
    "from skimage.feature import peak_local_max, canny\n",
    "from skimage.restoration import denoise_tv_chambolle\n",
    "from skimage.draw import  circle, circle_perimeter, ellipse, rectangle\n",
    "\n",
    "from skimage.measure import compare_ssim, find_contours\n",
    "import matplotlib.pyplot as plt\n",
    "import matplotlib.colors as clr"
   ]
  },
  {
   "cell_type": "markdown",
   "metadata": {},
   "source": [
    "### Load test data: import King Tut CT scan image\n",
    "\n",
    "Source: Supreme Council of Antiquities,  guardians.net/hawass/press_release_tutankhamun_ct_scan_results.htm"
   ]
  },
  {
   "cell_type": "markdown",
   "metadata": {},
   "source": [
    "##### Function to normalize arrays to [0 1] range"
   ]
  },
  {
   "cell_type": "code",
   "execution_count": 2,
   "metadata": {},
   "outputs": [],
   "source": [
    "def normalise(arr):\n",
    "    return (arr-np.amin(arr))/(np.amax(arr)-np.amin(arr))"
   ]
  },
  {
   "cell_type": "code",
   "execution_count": 4,
   "metadata": {},
   "outputs": [
    {
     "ename": "FileNotFoundError",
     "evalue": "No such file: '/Users/matteoniccoli/Pythonwork/GitHub/t21-hack-footprint/dev/images_and_data/Tut.jpg'",
     "output_type": "error",
     "traceback": [
      "\u001b[0;31m---------------------------------------------------------------------------\u001b[0m",
      "\u001b[0;31mFileNotFoundError\u001b[0m                         Traceback (most recent call last)",
      "\u001b[0;32m<ipython-input-4-96bd1cb066c7>\u001b[0m in \u001b[0;36m<module>\u001b[0;34m\u001b[0m\n\u001b[0;32m----> 1\u001b[0;31m \u001b[0mdata\u001b[0m \u001b[0;34m=\u001b[0m \u001b[0mnormalise\u001b[0m\u001b[0;34m(\u001b[0m\u001b[0mrgb2gray\u001b[0m\u001b[0;34m(\u001b[0m\u001b[0mio\u001b[0m\u001b[0;34m.\u001b[0m\u001b[0mimread\u001b[0m\u001b[0;34m(\u001b[0m\u001b[0;34m'images_and_data/Tut.jpg'\u001b[0m\u001b[0;34m)\u001b[0m\u001b[0;34m)\u001b[0m\u001b[0;34m)\u001b[0m\u001b[0;34m\u001b[0m\u001b[0;34m\u001b[0m\u001b[0m\n\u001b[0m\u001b[1;32m      2\u001b[0m \u001b[0mprint\u001b[0m\u001b[0;34m(\u001b[0m\u001b[0mnp\u001b[0m\u001b[0;34m.\u001b[0m\u001b[0mshape\u001b[0m\u001b[0;34m(\u001b[0m\u001b[0mdata\u001b[0m\u001b[0;34m)\u001b[0m\u001b[0;34m,\u001b[0m \u001b[0mnp\u001b[0m\u001b[0;34m.\u001b[0m\u001b[0mamin\u001b[0m\u001b[0;34m(\u001b[0m\u001b[0mdata\u001b[0m\u001b[0;34m)\u001b[0m\u001b[0;34m,\u001b[0m \u001b[0mnp\u001b[0m\u001b[0;34m.\u001b[0m\u001b[0mamax\u001b[0m\u001b[0;34m(\u001b[0m\u001b[0mdata\u001b[0m\u001b[0;34m)\u001b[0m\u001b[0;34m)\u001b[0m\u001b[0;34m\u001b[0m\u001b[0;34m\u001b[0m\u001b[0m\n",
      "\u001b[0;32m/opt/anaconda3/lib/python3.8/site-packages/skimage/io/_io.py\u001b[0m in \u001b[0;36mimread\u001b[0;34m(fname, as_gray, plugin, **plugin_args)\u001b[0m\n\u001b[1;32m     46\u001b[0m \u001b[0;34m\u001b[0m\u001b[0m\n\u001b[1;32m     47\u001b[0m     \u001b[0;32mwith\u001b[0m \u001b[0mfile_or_url_context\u001b[0m\u001b[0;34m(\u001b[0m\u001b[0mfname\u001b[0m\u001b[0;34m)\u001b[0m \u001b[0;32mas\u001b[0m \u001b[0mfname\u001b[0m\u001b[0;34m:\u001b[0m\u001b[0;34m\u001b[0m\u001b[0;34m\u001b[0m\u001b[0m\n\u001b[0;32m---> 48\u001b[0;31m         \u001b[0mimg\u001b[0m \u001b[0;34m=\u001b[0m \u001b[0mcall_plugin\u001b[0m\u001b[0;34m(\u001b[0m\u001b[0;34m'imread'\u001b[0m\u001b[0;34m,\u001b[0m \u001b[0mfname\u001b[0m\u001b[0;34m,\u001b[0m \u001b[0mplugin\u001b[0m\u001b[0;34m=\u001b[0m\u001b[0mplugin\u001b[0m\u001b[0;34m,\u001b[0m \u001b[0;34m**\u001b[0m\u001b[0mplugin_args\u001b[0m\u001b[0;34m)\u001b[0m\u001b[0;34m\u001b[0m\u001b[0;34m\u001b[0m\u001b[0m\n\u001b[0m\u001b[1;32m     49\u001b[0m \u001b[0;34m\u001b[0m\u001b[0m\n\u001b[1;32m     50\u001b[0m     \u001b[0;32mif\u001b[0m \u001b[0;32mnot\u001b[0m \u001b[0mhasattr\u001b[0m\u001b[0;34m(\u001b[0m\u001b[0mimg\u001b[0m\u001b[0;34m,\u001b[0m \u001b[0;34m'ndim'\u001b[0m\u001b[0;34m)\u001b[0m\u001b[0;34m:\u001b[0m\u001b[0;34m\u001b[0m\u001b[0;34m\u001b[0m\u001b[0m\n",
      "\u001b[0;32m/opt/anaconda3/lib/python3.8/site-packages/skimage/io/manage_plugins.py\u001b[0m in \u001b[0;36mcall_plugin\u001b[0;34m(kind, *args, **kwargs)\u001b[0m\n\u001b[1;32m    207\u001b[0m                                (plugin, kind))\n\u001b[1;32m    208\u001b[0m \u001b[0;34m\u001b[0m\u001b[0m\n\u001b[0;32m--> 209\u001b[0;31m     \u001b[0;32mreturn\u001b[0m \u001b[0mfunc\u001b[0m\u001b[0;34m(\u001b[0m\u001b[0;34m*\u001b[0m\u001b[0margs\u001b[0m\u001b[0;34m,\u001b[0m \u001b[0;34m**\u001b[0m\u001b[0mkwargs\u001b[0m\u001b[0;34m)\u001b[0m\u001b[0;34m\u001b[0m\u001b[0;34m\u001b[0m\u001b[0m\n\u001b[0m\u001b[1;32m    210\u001b[0m \u001b[0;34m\u001b[0m\u001b[0m\n\u001b[1;32m    211\u001b[0m \u001b[0;34m\u001b[0m\u001b[0m\n",
      "\u001b[0;32m/opt/anaconda3/lib/python3.8/site-packages/skimage/io/_plugins/imageio_plugin.py\u001b[0m in \u001b[0;36mimread\u001b[0;34m(*args, **kwargs)\u001b[0m\n\u001b[1;32m      8\u001b[0m \u001b[0;34m@\u001b[0m\u001b[0mwraps\u001b[0m\u001b[0;34m(\u001b[0m\u001b[0mimageio_imread\u001b[0m\u001b[0;34m)\u001b[0m\u001b[0;34m\u001b[0m\u001b[0;34m\u001b[0m\u001b[0m\n\u001b[1;32m      9\u001b[0m \u001b[0;32mdef\u001b[0m \u001b[0mimread\u001b[0m\u001b[0;34m(\u001b[0m\u001b[0;34m*\u001b[0m\u001b[0margs\u001b[0m\u001b[0;34m,\u001b[0m \u001b[0;34m**\u001b[0m\u001b[0mkwargs\u001b[0m\u001b[0;34m)\u001b[0m\u001b[0;34m:\u001b[0m\u001b[0;34m\u001b[0m\u001b[0;34m\u001b[0m\u001b[0m\n\u001b[0;32m---> 10\u001b[0;31m     \u001b[0;32mreturn\u001b[0m \u001b[0mnp\u001b[0m\u001b[0;34m.\u001b[0m\u001b[0masarray\u001b[0m\u001b[0;34m(\u001b[0m\u001b[0mimageio_imread\u001b[0m\u001b[0;34m(\u001b[0m\u001b[0;34m*\u001b[0m\u001b[0margs\u001b[0m\u001b[0;34m,\u001b[0m \u001b[0;34m**\u001b[0m\u001b[0mkwargs\u001b[0m\u001b[0;34m)\u001b[0m\u001b[0;34m)\u001b[0m\u001b[0;34m\u001b[0m\u001b[0;34m\u001b[0m\u001b[0m\n\u001b[0m",
      "\u001b[0;32m/opt/anaconda3/lib/python3.8/site-packages/imageio/core/functions.py\u001b[0m in \u001b[0;36mimread\u001b[0;34m(uri, format, **kwargs)\u001b[0m\n\u001b[1;32m    263\u001b[0m \u001b[0;34m\u001b[0m\u001b[0m\n\u001b[1;32m    264\u001b[0m     \u001b[0;31m# Get reader and read first\u001b[0m\u001b[0;34m\u001b[0m\u001b[0;34m\u001b[0m\u001b[0;34m\u001b[0m\u001b[0m\n\u001b[0;32m--> 265\u001b[0;31m     \u001b[0mreader\u001b[0m \u001b[0;34m=\u001b[0m \u001b[0mread\u001b[0m\u001b[0;34m(\u001b[0m\u001b[0muri\u001b[0m\u001b[0;34m,\u001b[0m \u001b[0mformat\u001b[0m\u001b[0;34m,\u001b[0m \u001b[0;34m\"i\"\u001b[0m\u001b[0;34m,\u001b[0m \u001b[0;34m**\u001b[0m\u001b[0mkwargs\u001b[0m\u001b[0;34m)\u001b[0m\u001b[0;34m\u001b[0m\u001b[0;34m\u001b[0m\u001b[0m\n\u001b[0m\u001b[1;32m    266\u001b[0m     \u001b[0;32mwith\u001b[0m \u001b[0mreader\u001b[0m\u001b[0;34m:\u001b[0m\u001b[0;34m\u001b[0m\u001b[0;34m\u001b[0m\u001b[0m\n\u001b[1;32m    267\u001b[0m         \u001b[0;32mreturn\u001b[0m \u001b[0mreader\u001b[0m\u001b[0;34m.\u001b[0m\u001b[0mget_data\u001b[0m\u001b[0;34m(\u001b[0m\u001b[0;36m0\u001b[0m\u001b[0;34m)\u001b[0m\u001b[0;34m\u001b[0m\u001b[0;34m\u001b[0m\u001b[0m\n",
      "\u001b[0;32m/opt/anaconda3/lib/python3.8/site-packages/imageio/core/functions.py\u001b[0m in \u001b[0;36mget_reader\u001b[0;34m(uri, format, mode, **kwargs)\u001b[0m\n\u001b[1;32m    170\u001b[0m \u001b[0;34m\u001b[0m\u001b[0m\n\u001b[1;32m    171\u001b[0m     \u001b[0;31m# Create request object\u001b[0m\u001b[0;34m\u001b[0m\u001b[0;34m\u001b[0m\u001b[0;34m\u001b[0m\u001b[0m\n\u001b[0;32m--> 172\u001b[0;31m     \u001b[0mrequest\u001b[0m \u001b[0;34m=\u001b[0m \u001b[0mRequest\u001b[0m\u001b[0;34m(\u001b[0m\u001b[0muri\u001b[0m\u001b[0;34m,\u001b[0m \u001b[0;34m\"r\"\u001b[0m \u001b[0;34m+\u001b[0m \u001b[0mmode\u001b[0m\u001b[0;34m,\u001b[0m \u001b[0;34m**\u001b[0m\u001b[0mkwargs\u001b[0m\u001b[0;34m)\u001b[0m\u001b[0;34m\u001b[0m\u001b[0;34m\u001b[0m\u001b[0m\n\u001b[0m\u001b[1;32m    173\u001b[0m \u001b[0;34m\u001b[0m\u001b[0m\n\u001b[1;32m    174\u001b[0m     \u001b[0;31m# Get format\u001b[0m\u001b[0;34m\u001b[0m\u001b[0;34m\u001b[0m\u001b[0;34m\u001b[0m\u001b[0m\n",
      "\u001b[0;32m/opt/anaconda3/lib/python3.8/site-packages/imageio/core/request.py\u001b[0m in \u001b[0;36m__init__\u001b[0;34m(self, uri, mode, **kwargs)\u001b[0m\n\u001b[1;32m    122\u001b[0m \u001b[0;34m\u001b[0m\u001b[0m\n\u001b[1;32m    123\u001b[0m         \u001b[0;31m# Parse what was given\u001b[0m\u001b[0;34m\u001b[0m\u001b[0;34m\u001b[0m\u001b[0;34m\u001b[0m\u001b[0m\n\u001b[0;32m--> 124\u001b[0;31m         \u001b[0mself\u001b[0m\u001b[0;34m.\u001b[0m\u001b[0m_parse_uri\u001b[0m\u001b[0;34m(\u001b[0m\u001b[0muri\u001b[0m\u001b[0;34m)\u001b[0m\u001b[0;34m\u001b[0m\u001b[0;34m\u001b[0m\u001b[0m\n\u001b[0m\u001b[1;32m    125\u001b[0m \u001b[0;34m\u001b[0m\u001b[0m\n\u001b[1;32m    126\u001b[0m         \u001b[0;31m# Set extension\u001b[0m\u001b[0;34m\u001b[0m\u001b[0;34m\u001b[0m\u001b[0;34m\u001b[0m\u001b[0m\n",
      "\u001b[0;32m/opt/anaconda3/lib/python3.8/site-packages/imageio/core/request.py\u001b[0m in \u001b[0;36m_parse_uri\u001b[0;34m(self, uri)\u001b[0m\n\u001b[1;32m    258\u001b[0m                 \u001b[0;31m# Reading: check that the file exists (but is allowed a dir)\u001b[0m\u001b[0;34m\u001b[0m\u001b[0;34m\u001b[0m\u001b[0;34m\u001b[0m\u001b[0m\n\u001b[1;32m    259\u001b[0m                 \u001b[0;32mif\u001b[0m \u001b[0;32mnot\u001b[0m \u001b[0mos\u001b[0m\u001b[0;34m.\u001b[0m\u001b[0mpath\u001b[0m\u001b[0;34m.\u001b[0m\u001b[0mexists\u001b[0m\u001b[0;34m(\u001b[0m\u001b[0mfn\u001b[0m\u001b[0;34m)\u001b[0m\u001b[0;34m:\u001b[0m\u001b[0;34m\u001b[0m\u001b[0;34m\u001b[0m\u001b[0m\n\u001b[0;32m--> 260\u001b[0;31m                     \u001b[0;32mraise\u001b[0m \u001b[0mFileNotFoundError\u001b[0m\u001b[0;34m(\u001b[0m\u001b[0;34m\"No such file: '%s'\"\u001b[0m \u001b[0;34m%\u001b[0m \u001b[0mfn\u001b[0m\u001b[0;34m)\u001b[0m\u001b[0;34m\u001b[0m\u001b[0;34m\u001b[0m\u001b[0m\n\u001b[0m\u001b[1;32m    261\u001b[0m             \u001b[0;32melse\u001b[0m\u001b[0;34m:\u001b[0m\u001b[0;34m\u001b[0m\u001b[0;34m\u001b[0m\u001b[0m\n\u001b[1;32m    262\u001b[0m                 \u001b[0;31m# Writing: check that the directory to write to does exist\u001b[0m\u001b[0;34m\u001b[0m\u001b[0;34m\u001b[0m\u001b[0;34m\u001b[0m\u001b[0m\n",
      "\u001b[0;31mFileNotFoundError\u001b[0m: No such file: '/Users/matteoniccoli/Pythonwork/GitHub/t21-hack-footprint/dev/images_and_data/Tut.jpg'"
     ]
    }
   ],
   "source": [
    "data = normalise(rgb2gray(io.imread('images_and_data/Tut.jpg')))\n",
    "print(np.shape(data), np.amin(data), np.amax(data))"
   ]
  },
  {
   "cell_type": "markdown",
   "metadata": {},
   "source": [
    "##### Add some blur"
   ]
  },
  {
   "cell_type": "code",
   "execution_count": null,
   "metadata": {},
   "outputs": [],
   "source": [
    "data=gaussian(data, 1)"
   ]
  },
  {
   "cell_type": "code",
   "execution_count": null,
   "metadata": {},
   "outputs": [],
   "source": [
    "plt.figure(figsize=(15,12))\n",
    "plt.imshow(data, cmap='bone'), plt.axis('off'); "
   ]
  },
  {
   "cell_type": "markdown",
   "metadata": {},
   "source": [
    "##### All-in-one function to perform Fourier transform, get magnitude, center on low frequency (for display purposes)"
   ]
  },
  {
   "cell_type": "code",
   "execution_count": null,
   "metadata": {},
   "outputs": [],
   "source": [
    "def numpy_fft2(im):\n",
    "    F = np.fft.fft2(im)     # Perform 2-dimensional discrete Fourier transform \n",
    "    C = np.fft.fftshift(F)  # Center spectrum on minimum frequency\n",
    "    Mag = np.abs(C).real    # Get magnitude and phase\n",
    "    Ph  = np.angle(C).real    \n",
    "    return Mag, Ph"
   ]
  },
  {
   "cell_type": "code",
   "execution_count": null,
   "metadata": {},
   "outputs": [],
   "source": [
    "A, _ = numpy_fft2(data)"
   ]
  },
  {
   "cell_type": "code",
   "execution_count": null,
   "metadata": {},
   "outputs": [],
   "source": [
    "Ag = denoise_tv_chambolle(np.log(A +1), weight=0.2)  \n",
    "lg = np.log(A +1)"
   ]
  },
  {
   "cell_type": "code",
   "execution_count": null,
   "metadata": {},
   "outputs": [],
   "source": [
    "plt.figure(figsize=(12, 12))\n",
    "plt.imshow(lg,  cmap='cubehelix', interpolation = 'none'), plt.axis('off');"
   ]
  },
  {
   "cell_type": "markdown",
   "metadata": {},
   "source": [
    "#### Get azimuthally averaged radial profile"
   ]
  },
  {
   "cell_type": "markdown",
   "metadata": {},
   "source": [
    "To show that the data \"lives\" in the lowest frequencies.\n",
    "\n",
    "Radial mean code adapted from [SciPy lectures](http://scipy-lectures.org/advanced/image_processing/#measuring-objects-properties-ndimage-measurements) (his method, compared to other ones tested, works better in that I can set the number of bins to be same as the size of the input image).\n",
    "\n",
    "Automatic knee-point detection with the [Kneedle algorithm](https://raghavan.usc.edu//papers/kneedle-simplex11.pdf) using the [Kneed package](https://github.com/arvkevi/kneed).\n",
    "\n",
    "__NB. It may be a bit better to use second derivative. Implement later (not high priority.__"
   ]
  },
  {
   "cell_type": "code",
   "execution_count": null,
   "metadata": {},
   "outputs": [],
   "source": [
    "sx, sy = Ag.shape\n",
    "X, Y = np.ogrid[0:sx, 0:sy]\n",
    "r = np.hypot(X - sx/2, Y - sy/2)\n",
    "rbin = (502* r/r.max()).astype(np.int)\n",
    "with np.errstate(invalid='ignore'):\n",
    "    radial_mean = ndi.mean(Ag**2, labels=rbin, index=np.arange(1, rbin.max() +1))\n",
    "radial_mean = radial_mean[~np.isnan(radial_mean)]"
   ]
  },
  {
   "cell_type": "code",
   "execution_count": null,
   "metadata": {},
   "outputs": [],
   "source": [
    "fig, ax = plt.subplots(figsize=(12, 12))\n",
    "plt.plot(radial_mean, 'b')\n",
    "ax.set_xlabel('Pixels', fontsize=14)\n",
    "ax.set_ylabel('Power spectrum', fontsize=14)\n",
    "ax.grid(which='both')"
   ]
  },
  {
   "cell_type": "code",
   "execution_count": null,
   "metadata": {},
   "outputs": [],
   "source": [
    "kl = KneeLocator(np.arange(0,len(radial_mean)), radial_mean, curve='convex', direction='decreasing',  online=True)\n",
    "print(kl.knee)"
   ]
  },
  {
   "cell_type": "code",
   "execution_count": null,
   "metadata": {},
   "outputs": [],
   "source": [
    "kl.plot_knee_normalized()\n",
    "fig = plt.gcf()\n",
    "fig.set_size_inches(12,12)\n",
    "#plt.gca().invert_yaxis()\n",
    "plt.grid(which='both')"
   ]
  },
  {
   "cell_type": "code",
   "execution_count": null,
   "metadata": {},
   "outputs": [],
   "source": [
    "radius = int(kl.knee/2)\n",
    "rr, cc = circle_perimeter(np.shape(Ag)[0]//2, np.shape(Ag)[0]//2, radius)\n",
    "lg[rr, cc] = np.amax(lg)"
   ]
  },
  {
   "cell_type": "code",
   "execution_count": null,
   "metadata": {},
   "outputs": [],
   "source": [
    "plt.figure(figsize=(12, 12))\n",
    "plt.imshow(lg,  cmap='cubehelix', interpolation = 'none'), plt.axis('off');"
   ]
  },
  {
   "cell_type": "markdown",
   "metadata": {},
   "source": [
    "### Preliminary examples of 2D Fourier Transform of straight lines and sinusoids"
   ]
  },
  {
   "cell_type": "markdown",
   "metadata": {},
   "source": [
    "##### How does the Fourier spectrum of a vertical line looks like?\n",
    "\n",
    "Reference blog post from Steve Eddins (Mathworks): [\"Fourier transforms, vertical lines, and horizontal lines\"](https://blogs.mathworks.com/steve/2010/09/22/fourier-transforms-vertical-lines-and-horizontal-lines/)"
   ]
  },
  {
   "cell_type": "code",
   "execution_count": null,
   "metadata": {},
   "outputs": [],
   "source": [
    "vline = np.zeros((201,201))\n",
    "vline[:,100]=1\n",
    "plt.figure(figsize=(12,12))\n",
    "plt.imshow(vline, cmap='gray', interpolation = 'none'), plt.axis('off');"
   ]
  },
  {
   "cell_type": "code",
   "execution_count": null,
   "metadata": {},
   "outputs": [],
   "source": [
    "A, _ = numpy_fft2(vline)"
   ]
  },
  {
   "cell_type": "code",
   "execution_count": null,
   "metadata": {},
   "outputs": [],
   "source": [
    "plt.figure(figsize=(12, 12))\n",
    "plt.imshow(np.log(A +1),  cmap='cubehelix', interpolation = 'none'), plt.axis('off');"
   ]
  },
  {
   "cell_type": "markdown",
   "metadata": {},
   "source": [
    "##### Next, how does the Fourier spectrum of a 2D vertical cosine wave look like?"
   ]
  },
  {
   "cell_type": "markdown",
   "metadata": {},
   "source": [
    "##### Sample rate"
   ]
  },
  {
   "cell_type": "code",
   "execution_count": null,
   "metadata": {},
   "outputs": [],
   "source": [
    "f = 0.02"
   ]
  },
  {
   "cell_type": "code",
   "execution_count": null,
   "metadata": {},
   "outputs": [],
   "source": [
    "x = y = np.arange(400)  \n",
    "xx, yy = np.meshgrid(x, y)"
   ]
  },
  {
   "cell_type": "code",
   "execution_count": null,
   "metadata": {},
   "outputs": [],
   "source": [
    "vcos=normalise(np.cos(np.pi*15*f*xx))"
   ]
  },
  {
   "cell_type": "code",
   "execution_count": null,
   "metadata": {},
   "outputs": [],
   "source": [
    "plt.figure(figsize=(12,12))\n",
    "plt.imshow(vcos, cmap='gray', interpolation = 'none'), plt.axis('off'); "
   ]
  },
  {
   "cell_type": "code",
   "execution_count": null,
   "metadata": {},
   "outputs": [],
   "source": [
    "A, _ = numpy_fft2(vcos)"
   ]
  },
  {
   "cell_type": "code",
   "execution_count": null,
   "metadata": {},
   "outputs": [],
   "source": [
    "plt.figure(figsize=(12, 12))\n",
    "plt.imshow(np.log(A +1),  cmap='cubehelix', interpolation = 'none'), plt.axis('off');"
   ]
  },
  {
   "cell_type": "markdown",
   "metadata": {},
   "source": [
    "In the image above, the center dot is the DC point. The frequency of the cosine wave is represented by the distance of either of the other points to the DC point. The amplitude information is encoded in the intensity of the points."
   ]
  },
  {
   "cell_type": "markdown",
   "metadata": {},
   "source": [
    "##### One more thing. \n",
    "\n",
    "Since ultimately we want to be able to filter a signal by manipulating the spectrum, then inverse Fourier transform the signal, let's show that (as should be expected) there is no signal loss by taking an image through fft2 and back via ifft2."
   ]
  },
  {
   "cell_type": "markdown",
   "metadata": {},
   "source": [
    "##### Method 1, the `numpy` way\n",
    "     \n",
    "That is, `ifft2(fft2(arr)) == arr` [to within a reasonable numerical accuracy](https://docs.scipy.org/doc/numpy-1.14.0/reference/generated/numpy.fft.ifft2.html) "
   ]
  },
  {
   "cell_type": "code",
   "execution_count": null,
   "metadata": {},
   "outputs": [],
   "source": [
    "accuracy = 1e-12"
   ]
  },
  {
   "cell_type": "code",
   "execution_count": null,
   "metadata": {},
   "outputs": [],
   "source": [
    "print(np.allclose(vcos, ifft2(fft2(vcos)), accuracy, accuracy))\n",
    "\n",
    "print(np.allclose(ifft2(fft2(vcos)), vcos, accuracy, accuracy))"
   ]
  },
  {
   "cell_type": "markdown",
   "metadata": {},
   "source": [
    "##### Method 2, the `scikit-image` way\n",
    "\n",
    "Reference: [Structural similarity index](https://scikit-image.org/docs/0.12.x/auto_examples/transform/plot_ssim.html)"
   ]
  },
  {
   "cell_type": "code",
   "execution_count": null,
   "metadata": {},
   "outputs": [],
   "source": [
    "def mse(x, y):\n",
    "    return np.linalg.norm(x - y)"
   ]
  },
  {
   "cell_type": "code",
   "execution_count": null,
   "metadata": {},
   "outputs": [],
   "source": [
    "diff_mse = mse(vcos, ifft2(fft2(vcos)).real)"
   ]
  },
  {
   "cell_type": "code",
   "execution_count": null,
   "metadata": {},
   "outputs": [],
   "source": [
    "diff_ssim = compare_ssim(vcos, ifft2(fft2(vcos)).real)"
   ]
  },
  {
   "cell_type": "code",
   "execution_count": null,
   "metadata": {},
   "outputs": [],
   "source": [
    "diff = img_as_float(vcos - ifft2(fft2(vcos)).real)"
   ]
  },
  {
   "cell_type": "code",
   "execution_count": null,
   "metadata": {},
   "outputs": [],
   "source": [
    "print ('MSE: %.2E, SSIM: %.2f' % (diff_mse, diff_ssim))"
   ]
  },
  {
   "cell_type": "markdown",
   "metadata": {},
   "source": [
    "### Create synthetic acquisition footprint"
   ]
  },
  {
   "cell_type": "markdown",
   "metadata": {},
   "source": [
    "We will create a 2D acquisition footprint by combining two non-orthogonal sinusoids of different frequency."
   ]
  },
  {
   "cell_type": "markdown",
   "metadata": {},
   "source": [
    "##### First cosine wave"
   ]
  },
  {
   "cell_type": "code",
   "execution_count": null,
   "metadata": {},
   "outputs": [],
   "source": [
    "cswA=normalise(np.cos(-2*np.pi*0.5*f*xx+6*np.pi*0.5*f*yy))"
   ]
  },
  {
   "cell_type": "code",
   "execution_count": null,
   "metadata": {},
   "outputs": [],
   "source": [
    "plt.figure(figsize=(12,12))\n",
    "plt.imshow(cswA, cmap='gray', interpolation = 'none'), plt.axis('off'); "
   ]
  },
  {
   "cell_type": "code",
   "execution_count": null,
   "metadata": {},
   "outputs": [],
   "source": [
    "A, _ = numpy_fft2(cswA)"
   ]
  },
  {
   "cell_type": "code",
   "execution_count": null,
   "metadata": {},
   "outputs": [],
   "source": [
    "plt.figure(figsize=(12, 12))\n",
    "plt.imshow(np.log(A +1),  cmap='cubehelix', interpolation = 'none'), plt.axis('off');"
   ]
  },
  {
   "cell_type": "markdown",
   "metadata": {},
   "source": [
    "##### Second cosine wave"
   ]
  },
  {
   "cell_type": "code",
   "execution_count": null,
   "metadata": {},
   "outputs": [],
   "source": [
    "cswB=normalise(np.cos(-15*0.6*np.pi*f*xx+1*0.6*np.pi*f*yy))\n",
    "print(np.shape(cswB))"
   ]
  },
  {
   "cell_type": "code",
   "execution_count": null,
   "metadata": {},
   "outputs": [],
   "source": [
    "plt.figure(figsize=(12,12))\n",
    "plt.imshow(cswB, cmap='gray', interpolation = 'none'), plt.axis('off'); "
   ]
  },
  {
   "cell_type": "markdown",
   "metadata": {},
   "source": [
    "##### Combine the two cosine waves"
   ]
  },
  {
   "cell_type": "code",
   "execution_count": null,
   "metadata": {},
   "outputs": [],
   "source": [
    "temp = cswA + cswB"
   ]
  },
  {
   "cell_type": "code",
   "execution_count": null,
   "metadata": {},
   "outputs": [],
   "source": [
    "footprint = normalise(temp)\n",
    "np.shape(footprint)"
   ]
  },
  {
   "cell_type": "code",
   "execution_count": null,
   "metadata": {},
   "outputs": [],
   "source": [
    "plt.figure(figsize=(12,12))\n",
    "plt.imshow(footprint, cmap='gray', interpolation = 'none'), plt.axis('off'); "
   ]
  },
  {
   "cell_type": "markdown",
   "metadata": {},
   "source": [
    "##### Raised cosine function to taper the input _à la_ Steve Eddins, to help with DFT periodicity i artifacts"
   ]
  },
  {
   "cell_type": "markdown",
   "metadata": {},
   "source": [
    "Reference blog post: [_\"Fourier transform visualization using windowing\"_](https://blogs.mathworks.com/steve/2009/12/04/fourier-transform-visualization-using-windowing)"
   ]
  },
  {
   "cell_type": "code",
   "execution_count": null,
   "metadata": {},
   "outputs": [],
   "source": [
    "def raised_cosine(im):\n",
    "    m, n = np.shape(im)\n",
    "    w1 = np.cos(np.linspace(-np.pi/2, np.pi/2, m))\n",
    "    w1 = w1[:, None] \n",
    "    w2 = np.cos(np.linspace(-np.pi/2, np.pi/2, n))\n",
    "    w = w1*w2\n",
    "    return normalise(im * w)"
   ]
  },
  {
   "cell_type": "code",
   "execution_count": null,
   "metadata": {},
   "outputs": [],
   "source": [
    "f = raised_cosine(footprint)"
   ]
  },
  {
   "cell_type": "code",
   "execution_count": null,
   "metadata": {},
   "outputs": [],
   "source": [
    "plt.figure(figsize=(12,12))\n",
    "plt.imshow(f, cmap='gray', interpolation = 'none'), plt.axis('off'); "
   ]
  },
  {
   "cell_type": "code",
   "execution_count": null,
   "metadata": {},
   "outputs": [],
   "source": [
    "plt.figure(figsize=(12,12))\n",
    "plt.imshow(f, cmap='gray', interpolation = 'none'), plt.axis('off'); "
   ]
  },
  {
   "cell_type": "code",
   "execution_count": null,
   "metadata": {},
   "outputs": [],
   "source": [
    "print(np.amin(f), np.amax(f))"
   ]
  },
  {
   "cell_type": "code",
   "execution_count": null,
   "metadata": {},
   "outputs": [],
   "source": [
    "A, _ = numpy_fft2(f)"
   ]
  },
  {
   "cell_type": "code",
   "execution_count": null,
   "metadata": {},
   "outputs": [],
   "source": [
    "plt.figure(figsize=(12, 12))\n",
    "plt.imshow(np.log(A +1),  cmap='cubehelix', interpolation = 'none'), plt.axis('off');"
   ]
  },
  {
   "cell_type": "markdown",
   "metadata": {},
   "source": [
    "##### For comparison, this is the result if we do not use the tapering to remove artifacts"
   ]
  },
  {
   "cell_type": "code",
   "execution_count": null,
   "metadata": {},
   "outputs": [],
   "source": [
    "Au, _ = numpy_fft2(footprint)\n",
    "plt.figure(figsize=(12, 12))\n",
    "plt.imshow(np.log(Au +1),  cmap='cubehelix', interpolation = 'none'), plt.axis('off');"
   ]
  },
  {
   "cell_type": "markdown",
   "metadata": {},
   "source": [
    "Where do those vertical lines come from? SImilarly to what Steve showed in the blog post, now that we tiled the signal (simulating the Fourier transform's implicit periodicity) a horizontal edge effect becomes apparent."
   ]
  },
  {
   "cell_type": "code",
   "execution_count": null,
   "metadata": {},
   "outputs": [],
   "source": [
    "plt.figure(figsize=(12, 12))\n",
    "plt.imshow(np.tile(footprint, (2,2)),  cmap='gray', interpolation = 'none'), plt.axis('off');"
   ]
  },
  {
   "cell_type": "markdown",
   "metadata": {},
   "source": [
    "### Combine data to synthetic acquisition footprint"
   ]
  },
  {
   "cell_type": "code",
   "execution_count": null,
   "metadata": {},
   "outputs": [],
   "source": [
    "noisy = normalise(data.copy() + f*4)"
   ]
  },
  {
   "cell_type": "code",
   "execution_count": null,
   "metadata": {},
   "outputs": [],
   "source": [
    "plt.figure(figsize=(12,12))\n",
    "plt.imshow(noisy, cmap='bone'), plt.axis('off');"
   ]
  },
  {
   "cell_type": "code",
   "execution_count": null,
   "metadata": {},
   "outputs": [],
   "source": [
    "fkt = raised_cosine(noisy)"
   ]
  },
  {
   "cell_type": "code",
   "execution_count": null,
   "metadata": {},
   "outputs": [],
   "source": [
    "plt.figure(figsize=(12,12))\n",
    "plt.imshow(fkt, cmap='bone', interpolation = 'none'), plt.axis('off'); "
   ]
  },
  {
   "cell_type": "markdown",
   "metadata": {},
   "source": [
    "#### Check the spectrum"
   ]
  },
  {
   "cell_type": "code",
   "execution_count": null,
   "metadata": {},
   "outputs": [],
   "source": [
    "A, _ = numpy_fft2(fkt)"
   ]
  },
  {
   "cell_type": "code",
   "execution_count": null,
   "metadata": {},
   "outputs": [],
   "source": [
    "plt.figure(figsize=(12, 12))\n",
    "plt.imshow(np.log(A +1),  cmap='cubehelix', interpolation = 'none'), plt.axis('off');"
   ]
  },
  {
   "cell_type": "code",
   "execution_count": null,
   "metadata": {},
   "outputs": [],
   "source": [
    "Ag = denoise_tv_chambolle(np.log(A +1), weight=0.2)  "
   ]
  },
  {
   "cell_type": "code",
   "execution_count": null,
   "metadata": {},
   "outputs": [],
   "source": [
    "plt.figure(figsize=(12, 12))\n",
    "plt.imshow(Ag,  cmap='cubehelix', interpolation = 'none'), plt.axis('off');"
   ]
  },
  {
   "cell_type": "markdown",
   "metadata": {},
   "source": [
    "### Filter out the footprint\n",
    "\n",
    "\n",
    "##### Find local maxima in Fourier Transform image using Scikit-image \n",
    "\n",
    "https://scikit-image.org/docs/dev/auto_examples/segmentation/plot_peak_local_max.html"
   ]
  },
  {
   "cell_type": "code",
   "execution_count": null,
   "metadata": {},
   "outputs": [],
   "source": [
    "fp = morph.disk(5)"
   ]
  },
  {
   "cell_type": "code",
   "execution_count": null,
   "metadata": {},
   "outputs": [],
   "source": [
    "image_max = ndi.maximum_filter(Ag, footprint = fp, mode='constant')\n",
    "coordinates= peak_local_max(Ag, min_distance=5, num_peaks=5)\n",
    "coordinates_center = peak_local_max(Ag, min_distance=10, num_peaks=1)"
   ]
  },
  {
   "cell_type": "code",
   "execution_count": null,
   "metadata": {},
   "outputs": [],
   "source": [
    "# display results\n",
    "fig, axes = plt.subplots(2, 2, figsize=(24, 24), sharex=True, sharey=True)\n",
    "ax = axes.ravel()\n",
    "ax[0].imshow(Ag, cmap='gray')\n",
    "ax[0].axis('off')\n",
    "ax[0].set_title('Original')\n",
    "\n",
    "ax[1].imshow(image_max, cmap='gray')\n",
    "ax[1].axis('off')\n",
    "ax[1].set_title('Maximum filter')\n",
    "\n",
    "ax[2].imshow(Ag, cmap='gray')\n",
    "ax[2].autoscale(False)\n",
    "ax[2].plot(coordinates_center[:, 1], coordinates_center[:, 0], 'mo')\n",
    "ax[2].axis('off')\n",
    "ax[2].set_title('Peak 1 local maximum')\n",
    "\n",
    "ax[3].imshow(Ag, cmap='gray')\n",
    "ax[3].autoscale(False)\n",
    "ax[3].plot(coordinates[:, 1], coordinates[:, 0], 'mo')\n",
    "ax[3].axis('off')\n",
    "ax[3].set_title('Peak 5 local maxima')\n",
    "\n",
    "fig.tight_layout()\n",
    "\n",
    "plt.show()\n"
   ]
  },
  {
   "cell_type": "markdown",
   "metadata": {},
   "source": [
    "##### Maximum filter also returns an image directly! Let's take advantage of that:"
   ]
  },
  {
   "cell_type": "code",
   "execution_count": null,
   "metadata": {},
   "outputs": [],
   "source": [
    "fttt2_im = peak_local_max(Ag, min_distance=10, num_peaks=5, indices = False)*1"
   ]
  },
  {
   "cell_type": "code",
   "execution_count": null,
   "metadata": {},
   "outputs": [],
   "source": [
    "plt.figure(figsize=(12, 12))\n",
    "plt.imshow(fttt2_im,  \n",
    "           cmap='gray', interpolation = 'none'), plt.axis('off');"
   ]
  },
  {
   "cell_type": "code",
   "execution_count": null,
   "metadata": {},
   "outputs": [],
   "source": [
    "fttt2_im_center = peak_local_max(Ag, min_distance=10, num_peaks=1, indices = False)*1\n",
    "fttt2_im_no_center = fttt2_im - fttt2_im_center "
   ]
  },
  {
   "cell_type": "code",
   "execution_count": null,
   "metadata": {},
   "outputs": [],
   "source": [
    "plt.figure(figsize=(12, 12))\n",
    "plt.imshow(fttt2_im_no_center,  \n",
    "           cmap='gray', interpolation = 'none'), plt.axis('off');"
   ]
  },
  {
   "cell_type": "markdown",
   "metadata": {},
   "source": [
    "##### Design footprint suppression filter by convolution with Gaussian disk "
   ]
  },
  {
   "cell_type": "markdown",
   "metadata": {},
   "source": [
    "Initially used `convolve` and `Gaussian2DKernel` [from Astropy](https://docs.astropy.org/en/stable/convolution/kernels.html) but then moved to `Scipy` for both, with significantly improved performance (you can read about it [here](https://github.com/mycarta/2D_FFT_filter_tutorial/blob/master/speed_up_convolution.ipynb) and [here](https://github.com/mycarta/2D_FFT_filter_tutorial/blob/master/scipy_gaussian_kernel.ipynb))."
   ]
  },
  {
   "cell_type": "code",
   "execution_count": null,
   "metadata": {},
   "outputs": [],
   "source": [
    "def scipy_gaussian_2D(std):\n",
    "    '''\n",
    "    2D Gaussian filter kernel similar to astropy\\'s Gaussian2DKernel\n",
    "    (https://docs.astropy.org/en/stable/api/astropy.convolution.Gaussian2DKernel.html#astropy.convolution.Gaussian2DKernel)\n",
    "    using scipy.signal.gaussian \n",
    "    (and inspired by https://gist.github.com/thomasaarholt/267ec4fff40ca9dff1106490ea3b7567)\n",
    "    \n",
    "    Parameters: \n",
    "    std (int) : standard deviation of the Gaussian in pixels\n",
    "    \n",
    "    Returns:\n",
    "    out (2D array): 2D Gaussian filter kernel\n",
    "    '''\n",
    "    ksp1D = signal.gaussian(std*8+1, std)\n",
    "    ksp2D = np.outer(ksp1D, ksp1D)\n",
    "    ksp2D /= (2*np.pi*(std**2))\n",
    "    return ksp2D"
   ]
  },
  {
   "cell_type": "code",
   "execution_count": null,
   "metadata": {},
   "outputs": [],
   "source": [
    "gauss_kernel = scipy_gaussian_2D(2)\n",
    "filter0 = signal.fftconvolve(fttt2_im_no_center, gauss_kernel,  mode='same')"
   ]
  },
  {
   "cell_type": "code",
   "execution_count": null,
   "metadata": {},
   "outputs": [],
   "source": [
    "plt.figure(figsize=(12, 12))\n",
    "plt.imshow(filter0, cmap='cubehelix', interpolation = 'none'), plt.axis('off');"
   ]
  },
  {
   "cell_type": "code",
   "execution_count": null,
   "metadata": {},
   "outputs": [],
   "source": [
    "plt.figure(figsize=(12, 12))\n",
    "plt.imshow(1-filter0, cmap='gray', interpolation = 'none'), plt.axis('off');"
   ]
  },
  {
   "cell_type": "code",
   "execution_count": null,
   "metadata": {},
   "outputs": [],
   "source": [
    "print(np.amin(filter0), np.amax(filter0))"
   ]
  },
  {
   "cell_type": "code",
   "execution_count": null,
   "metadata": {},
   "outputs": [],
   "source": [
    "filter0=normalise(filter0)"
   ]
  },
  {
   "cell_type": "markdown",
   "metadata": {},
   "source": [
    "##### Show why a gaussian kernel filter is better than a disk notch filter"
   ]
  },
  {
   "cell_type": "code",
   "execution_count": null,
   "metadata": {},
   "outputs": [],
   "source": [
    "c1 = np.zeros((500, 500, 3), 'float')\n",
    "rr, cc = circle(250, 250, 15, c1.shape)\n",
    "c1[rr,cc] = (1.)\n",
    "c1=rgb2gray(c1)"
   ]
  },
  {
   "cell_type": "code",
   "execution_count": null,
   "metadata": {},
   "outputs": [],
   "source": [
    "plt.figure(figsize=(12, 12))\n",
    "plt.imshow(c1, cmap='gray', interpolation = 'none'), plt.axis('off');"
   ]
  },
  {
   "cell_type": "code",
   "execution_count": null,
   "metadata": {},
   "outputs": [],
   "source": [
    "plt.figure(figsize=(12, 12))\n",
    "plt.imshow(fftshift(ifft2(ifftshift(c1))).real, cmap='gray', interpolation = 'none'), plt.axis('off');"
   ]
  },
  {
   "cell_type": "code",
   "execution_count": null,
   "metadata": {},
   "outputs": [],
   "source": [
    "c2 = signal.fftconvolve(c1, scipy_gaussian_2D(7),  mode='same')"
   ]
  },
  {
   "cell_type": "code",
   "execution_count": null,
   "metadata": {},
   "outputs": [],
   "source": [
    "plt.figure(figsize=(12, 12))\n",
    "plt.imshow(c2, cmap='gray', interpolation = 'none'), plt.axis('off');"
   ]
  },
  {
   "cell_type": "code",
   "execution_count": null,
   "metadata": {},
   "outputs": [],
   "source": [
    "plt.figure(figsize=(12, 12))\n",
    "plt.imshow(fftshift(ifft2(ifftshift(c2))).real, cmap='gray', interpolation = 'none'), plt.axis('off');"
   ]
  },
  {
   "cell_type": "markdown",
   "metadata": {},
   "source": [
    "##### Apply filter and check reconstructed cat scan image"
   ]
  },
  {
   "cell_type": "code",
   "execution_count": null,
   "metadata": {},
   "outputs": [],
   "source": [
    "filtered = ifft2(np.multiply(ifftshift(1-filter0), fft2(data.copy()))).real"
   ]
  },
  {
   "cell_type": "code",
   "execution_count": null,
   "metadata": {},
   "outputs": [],
   "source": [
    "plt.figure(figsize=(12, 12))\n",
    "plt.imshow(filtered, cmap='gray', interpolation = 'none'), plt.axis('off');"
   ]
  },
  {
   "cell_type": "markdown",
   "metadata": {},
   "source": [
    "##### Check effect of filtering on Canny edge effectiveness"
   ]
  },
  {
   "cell_type": "code",
   "execution_count": null,
   "metadata": {},
   "outputs": [],
   "source": [
    "def auto_canny(img, sigma = 0.33):\n",
    "    \"\"\"Zero-parameter, automatic Canny edge detection using scikit-image.\n",
    "    Original function from pyimagesearch: Zero-parameter, automatic Canny edge with with Python and OpenCV\n",
    "    www.pyimagesearch.com/2015/04/06/zero-parameter-automatic-canny-edge-detection-with-python-and-opencv\"\"\"\n",
    "        \n",
    "    # compute the median of the single channel pixel intensities\n",
    "    v = np.median(img)\n",
    " \n",
    "    # apply automatic Canny edge detection using the computed median\n",
    "    lower = float(max(0.0, (1.0 - sigma) * v))\n",
    "    upper = float(min(1.0, (1.0 + sigma) * v))\n",
    "    edged = canny(img, sigma, lower, upper)\n",
    "\n",
    "    # return the edged image\n",
    "    return edged"
   ]
  },
  {
   "cell_type": "code",
   "execution_count": null,
   "metadata": {},
   "outputs": [],
   "source": [
    "Cn = auto_canny(noisy)"
   ]
  },
  {
   "cell_type": "code",
   "execution_count": null,
   "metadata": {},
   "outputs": [],
   "source": [
    "Cdn = auto_canny(filtered)"
   ]
  },
  {
   "cell_type": "code",
   "execution_count": null,
   "metadata": {},
   "outputs": [],
   "source": [
    "plt.figure(figsize=(12, 12))\n",
    "plt.imshow(Cn, cmap='gray_r', interpolation = 'none'), plt.axis('off');"
   ]
  },
  {
   "cell_type": "code",
   "execution_count": null,
   "metadata": {},
   "outputs": [],
   "source": [
    "plt.figure(figsize=(12, 12))\n",
    "plt.imshow(Cdn, cmap='gray_r', interpolation = 'none'), plt.axis('off');"
   ]
  },
  {
   "cell_type": "markdown",
   "metadata": {},
   "source": [
    "##### Check effect of filtering on sobel filters effectiveness (1D and 2D)"
   ]
  },
  {
   "cell_type": "code",
   "execution_count": null,
   "metadata": {},
   "outputs": [],
   "source": [
    "Snh = ndi.sobel(noisy,0)\n",
    "Sdnh = ndi.sobel(filtered,0)"
   ]
  },
  {
   "cell_type": "code",
   "execution_count": null,
   "metadata": {},
   "outputs": [],
   "source": [
    "plt.figure(figsize=(12, 12))\n",
    "plt.imshow(Snh, cmap='gray_r', interpolation = 'none'), plt.axis('off');"
   ]
  },
  {
   "cell_type": "code",
   "execution_count": null,
   "metadata": {},
   "outputs": [],
   "source": [
    "plt.figure(figsize=(12, 12))\n",
    "plt.imshow(Sdnh, cmap='gray_r', interpolation = 'none'), plt.axis('off');"
   ]
  },
  {
   "cell_type": "code",
   "execution_count": null,
   "metadata": {},
   "outputs": [],
   "source": [
    "Snv = ndi.sobel(noisy,1)\n",
    "Sdnv = ndi.sobel(filtered,1)"
   ]
  },
  {
   "cell_type": "code",
   "execution_count": null,
   "metadata": {},
   "outputs": [],
   "source": [
    "plt.figure(figsize=(12, 12))\n",
    "plt.imshow(Snv, cmap='gray_r', interpolation = 'none'), plt.axis('off');"
   ]
  },
  {
   "cell_type": "code",
   "execution_count": null,
   "metadata": {},
   "outputs": [],
   "source": [
    "plt.figure(figsize=(12, 12))\n",
    "plt.imshow(Sdnv, cmap='gray_r', interpolation = 'none'), plt.axis('off');"
   ]
  },
  {
   "cell_type": "code",
   "execution_count": null,
   "metadata": {},
   "outputs": [],
   "source": [
    "def Sobel_2d(data):\n",
    "    '''2D Sobel filter'''\n",
    "    dx = ndi.sobel(data, 0)  # horizontal derivative\n",
    "    dy = ndi.sobel(data, 1)  # vertical derivative\n",
    "    mag = np.hypot(dx, dy)      # magnitude\n",
    "    mag *= 255.0 / np.max(mag)  # normalize\n",
    "    return mag"
   ]
  },
  {
   "cell_type": "code",
   "execution_count": null,
   "metadata": {},
   "outputs": [],
   "source": [
    "Sn2 = Sobel_2d(noisy)"
   ]
  },
  {
   "cell_type": "code",
   "execution_count": null,
   "metadata": {},
   "outputs": [],
   "source": [
    "Sdn2 = Sobel_2d(filtered)"
   ]
  },
  {
   "cell_type": "code",
   "execution_count": null,
   "metadata": {},
   "outputs": [],
   "source": [
    "plt.figure(figsize=(12, 12))\n",
    "plt.imshow(Sn2, cmap='gray_r', interpolation = 'none'), plt.axis('off');"
   ]
  },
  {
   "cell_type": "code",
   "execution_count": null,
   "metadata": {},
   "outputs": [],
   "source": [
    "plt.figure(figsize=(12, 12))\n",
    "plt.imshow(Sdn2, cmap='gray_r', interpolation = 'none'), plt.axis('off');"
   ]
  },
  {
   "cell_type": "markdown",
   "metadata": {},
   "source": [
    "__Add discussion on 2D sobel filter__"
   ]
  },
  {
   "cell_type": "markdown",
   "metadata": {},
   "source": [
    "### Some real seismic data now"
   ]
  },
  {
   "cell_type": "markdown",
   "metadata": {},
   "source": [
    "##### Function to pad input to a square NxN array. Not necessary in this case because images are square to begin with."
   ]
  },
  {
   "cell_type": "code",
   "execution_count": null,
   "metadata": {},
   "outputs": [],
   "source": [
    "def pad_next_square_size(im):\n",
    "    \"\"\"Function to pad a rectangualr image to a square image.\n",
    "    Parameters:\n",
    "    im (2D array): input grayscale image\n",
    "    \n",
    "    Returns:\n",
    "    out (2D array): padded input image\n",
    "    padding (slice object): a slice object that can be used later on to unpad\n",
    "    \n",
    "    Example:\n",
    "    out, padding = pad_next_square_size(im)\n",
    "    \"\"\"\n",
    "    m, n = np.shape(im) # get input shape\n",
    "    deficit = max([m,n])- min([m,n])  # get deficit between size lengths\n",
    "\n",
    "    # difference in dimensions is even, pad both sides of short dimension by deficit//2\n",
    "    if deficit%2 == 0: \n",
    "        deficit1 = deficit//2\n",
    "        deficit2 = deficit//2\n",
    "    \n",
    "    # difference in dimensions is odd, pad one side by deficit//2 +1\n",
    "    else:\n",
    "        deficit1 = deficit//2\n",
    "        deficit2 = deficit1+1\n",
    "        \n",
    "    if m > n:\n",
    "        print(\"Padded image columns\")\n",
    "        return (np.pad(im,((0,0), (deficit1,deficit2)), 'reflect'), slice(deficit1, -deficit2))\n",
    "        \n",
    "    else:\n",
    "        print(\"Padded image rows\")\n",
    "        return (np.pad(im,((deficit1,deficit2), (0,0)), 'reflect'), slice(deficit1, -deficit2))"
   ]
  },
  {
   "cell_type": "code",
   "execution_count": null,
   "metadata": {},
   "outputs": [],
   "source": [
    "sc = normalise(rgb2gray(io.imread('images and data/Luo_edge-preserving_smoothing.png')))\n",
    "plt.figure(figsize=(12, 12))\n",
    "plt.imshow(sc, cmap='gray', interpolation = 'none'), plt.axis('off');"
   ]
  },
  {
   "cell_type": "code",
   "execution_count": null,
   "metadata": {},
   "outputs": [],
   "source": [
    "print (np.shape(sc))\n",
    "print(np.amax(sc))"
   ]
  },
  {
   "cell_type": "code",
   "execution_count": null,
   "metadata": {},
   "outputs": [],
   "source": [
    "test1, slc = pad_next_square_size(sc)"
   ]
  },
  {
   "cell_type": "code",
   "execution_count": null,
   "metadata": {},
   "outputs": [],
   "source": [
    "slc"
   ]
  },
  {
   "cell_type": "code",
   "execution_count": null,
   "metadata": {},
   "outputs": [],
   "source": [
    "A, _ = numpy_fft2(raised_cosine(test1))\n",
    "plt.figure(figsize=(12, 12))\n",
    "plt.imshow(np.log(A +1),  cmap='cubehelix', interpolation = 'none'), plt.axis('off');"
   ]
  },
  {
   "cell_type": "code",
   "execution_count": null,
   "metadata": {},
   "outputs": [],
   "source": [
    "plt.figure(figsize=(12, 12))\n",
    "plt.imshow(test1, cmap='gray', interpolation = 'none'), plt.axis('off');"
   ]
  },
  {
   "cell_type": "code",
   "execution_count": null,
   "metadata": {},
   "outputs": [],
   "source": [
    "A, _ = numpy_fft2(raised_cosine(test1))\n",
    "plt.figure(figsize=(12, 12))\n",
    "plt.imshow(np.log(A +1),  cmap='cubehelix', interpolation = 'none'), plt.axis('off');"
   ]
  },
  {
   "cell_type": "code",
   "execution_count": null,
   "metadata": {},
   "outputs": [],
   "source": [
    "Ag = denoise_tv_chambolle(np.log(A +1), weight=0.2)  "
   ]
  },
  {
   "cell_type": "code",
   "execution_count": null,
   "metadata": {},
   "outputs": [],
   "source": [
    "plt.figure(figsize=(12, 12))\n",
    "plt.imshow(Ag,  cmap='cubehelix', interpolation = 'none'), plt.axis('off');"
   ]
  },
  {
   "cell_type": "code",
   "execution_count": null,
   "metadata": {},
   "outputs": [],
   "source": [
    "image_max = ndi.maximum_filter(Ag, footprint = fp, mode='constant')\n",
    "coordinates= peak_local_max(Ag, min_distance=10, num_peaks=5)\n",
    "coordinates_center = peak_local_max(Ag, min_distance=10, num_peaks=1)"
   ]
  },
  {
   "cell_type": "code",
   "execution_count": null,
   "metadata": {},
   "outputs": [],
   "source": [
    "# display results\n",
    "fig, axes = plt.subplots(2, 2, figsize=(24, 24), sharex=True, sharey=True)\n",
    "ax = axes.ravel()\n",
    "ax[0].imshow(Ag, cmap='gray')\n",
    "ax[0].axis('off')\n",
    "ax[0].set_title('Original')\n",
    "\n",
    "ax[1].imshow(image_max, cmap='gray')\n",
    "ax[1].axis('off')\n",
    "ax[1].set_title('Maximum filter')\n",
    "\n",
    "ax[2].imshow(Ag, cmap='gray')\n",
    "ax[2].autoscale(False)\n",
    "ax[2].plot(coordinates_center[:, 1], coordinates_center[:, 0], 'mo')\n",
    "ax[2].axis('off')\n",
    "ax[2].set_title('Peak 1 local maximum')\n",
    "\n",
    "ax[3].imshow(Ag, cmap='gray')\n",
    "ax[3].autoscale(False)\n",
    "ax[3].plot(coordinates[:, 1], coordinates[:, 0], 'mo')\n",
    "ax[3].axis('off')\n",
    "ax[3].set_title('Peak 5 local maxima')\n",
    "\n",
    "fig.tight_layout()\n",
    "plt.show()"
   ]
  },
  {
   "cell_type": "code",
   "execution_count": null,
   "metadata": {},
   "outputs": [],
   "source": [
    "fttt2_im = peak_local_max(Ag, min_distance=10, num_peaks=5, indices = False)*1"
   ]
  },
  {
   "cell_type": "code",
   "execution_count": null,
   "metadata": {},
   "outputs": [],
   "source": [
    "plt.figure(figsize=(12, 12))\n",
    "plt.imshow(fttt2_im,  \n",
    "           cmap='gray', interpolation = 'none'), plt.axis('off');"
   ]
  },
  {
   "cell_type": "code",
   "execution_count": null,
   "metadata": {},
   "outputs": [],
   "source": [
    "fttt2_im_center = peak_local_max(Ag, min_distance=10, num_peaks=1, indices = False)*1\n",
    "fttt2_im_no_center = fttt2_im - fttt2_im_center "
   ]
  },
  {
   "cell_type": "code",
   "execution_count": null,
   "metadata": {},
   "outputs": [],
   "source": [
    "plt.figure(figsize=(12, 12))\n",
    "plt.imshow(fttt2_im_no_center,  \n",
    "           cmap='gray', interpolation = 'none'), plt.axis('off');"
   ]
  },
  {
   "cell_type": "markdown",
   "metadata": {},
   "source": [
    "##### Design footprint suppression filter by convolution with Gaussian disk \n",
    "\n",
    "Using `astropy`:\n",
    "https://docs.astropy.org/en/stable/convolution/kernels.html"
   ]
  },
  {
   "cell_type": "code",
   "execution_count": null,
   "metadata": {},
   "outputs": [],
   "source": [
    "gauss_kernel1 = scipy_gaussian_2D(5)\n",
    "filter1 = signal.fftconvolve(fttt2_im_no_center, gauss_kernel,  mode='same')\n",
    "\n",
    "print (np.amin(filter1))\n",
    "print (np.amax(filter1))\n",
    "\n",
    "filter1=normalise(filter1)\n",
    "print (np.amin(filter1))\n",
    "print (np.amax(filter1))"
   ]
  },
  {
   "cell_type": "code",
   "execution_count": null,
   "metadata": {},
   "outputs": [],
   "source": [
    "plt.figure(figsize=(12, 12))\n",
    "plt.imshow(filter1, cmap='cubehelix', interpolation = 'none'), plt.axis('off');"
   ]
  },
  {
   "cell_type": "code",
   "execution_count": null,
   "metadata": {},
   "outputs": [],
   "source": [
    "plt.figure(figsize=(12, 12))\n",
    "plt.imshow(1-filter1, cmap='gray', interpolation = 'none'), plt.axis('off');"
   ]
  },
  {
   "cell_type": "markdown",
   "metadata": {},
   "source": [
    "##### Apply filter and view reconstructed image"
   ]
  },
  {
   "cell_type": "code",
   "execution_count": null,
   "metadata": {},
   "outputs": [],
   "source": [
    "def reverse_padding(im, filtered_im, slc):\n",
    "    m, n = np.shape(im) # get input shape\n",
    "     \n",
    "    if m > n:\n",
    "        print(\"Unpadding image columns\")\n",
    "        return filtered_im[:, slc]       \n",
    "    else:\n",
    "        print(\"Unpadding image rows\")\n",
    "        return filtered_im[slc, :]      "
   ]
  },
  {
   "cell_type": "code",
   "execution_count": null,
   "metadata": {},
   "outputs": [],
   "source": [
    "filtered1 = ifft2(np.multiply(ifftshift(1-filter1), fft2(test1.copy()))).real\n",
    "print(np.shape(filtered1))\n",
    "\n",
    "filtered1 = reverse_padding(sc, filtered1, slc)\n",
    "print(np.shape(filtered1))"
   ]
  },
  {
   "cell_type": "code",
   "execution_count": null,
   "metadata": {},
   "outputs": [],
   "source": [
    "compare_ssim(sc, filtered1)"
   ]
  },
  {
   "cell_type": "code",
   "execution_count": null,
   "metadata": {},
   "outputs": [],
   "source": [
    "diff = img_as_float(sc - filtered1)"
   ]
  },
  {
   "cell_type": "code",
   "execution_count": null,
   "metadata": {},
   "outputs": [],
   "source": [
    "# display results\n",
    "fig, axes = plt.subplots(1, 3, figsize=(18, 12), sharex=True, sharey=True)\n",
    "ax = axes.ravel()\n",
    "ax[0].imshow(sc, cmap='gray')\n",
    "ax[0].axis('off')\n",
    "ax[0].set_title('Original')\n",
    "ax[1].imshow(filtered1, cmap='gray')\n",
    "ax[1].axis('off')\n",
    "ax[1].set_title('Filtered')\n",
    "ax[2].imshow(diff, cmap='gray')\n",
    "ax[2].axis('off')\n",
    "ax[2].set_title('Difference')\n",
    "fig.tight_layout()\n",
    "plt.show()"
   ]
  },
  {
   "cell_type": "markdown",
   "metadata": {},
   "source": [
    "### One more photo, for fun\n",
    "\n",
    "##### A Scene in Shantytown, March 1880\n",
    "\n",
    "This is the first ever newspaper photo printed using a halftone screen!\n",
    "\n",
    "Source: http://www.sfu.ca/humanities-institute/contours/issue8/theory/5.html\n",
    "\n",
    "Image file: http://www.sfu.ca/content/dam/sfu/humanities-institute/Images/contours/issue8/FIG%2010.2_A-SCENE-IN-SHANTYTOWN.jpg\n",
    "\n",
    "History: https://en.wikipedia.org/wiki/The_Daily_Graphic#History"
   ]
  },
  {
   "cell_type": "code",
   "execution_count": null,
   "metadata": {},
   "outputs": [],
   "source": [
    "data = normalise(rgb2gray(io.imread('images and data/Scene_Shantytown_Horgan.jpg')))\n",
    "print(np.shape(data), np.amin(data), np.amax(data))"
   ]
  },
  {
   "cell_type": "code",
   "execution_count": null,
   "metadata": {},
   "outputs": [],
   "source": [
    "plt.figure(figsize=(15,12))\n",
    "plt.imshow(data, cmap='bone'), plt.axis('off'); "
   ]
  },
  {
   "cell_type": "code",
   "execution_count": null,
   "metadata": {},
   "outputs": [],
   "source": [
    "sc = normalise(data)"
   ]
  },
  {
   "cell_type": "code",
   "execution_count": null,
   "metadata": {},
   "outputs": [],
   "source": [
    "test1, slc = pad_next_square_size(sc)"
   ]
  },
  {
   "cell_type": "code",
   "execution_count": null,
   "metadata": {},
   "outputs": [],
   "source": [
    "A, _ = numpy_fft2(raised_cosine(test1))"
   ]
  },
  {
   "cell_type": "code",
   "execution_count": null,
   "metadata": {},
   "outputs": [],
   "source": [
    "Ag = denoise_tv_chambolle(np.log(A +1), weight=0.2)  "
   ]
  },
  {
   "cell_type": "code",
   "execution_count": null,
   "metadata": {},
   "outputs": [],
   "source": [
    "plt.figure(figsize=(12, 12))\n",
    "plt.imshow(Ag,  cmap='cubehelix', interpolation = 'none'), plt.axis('off');"
   ]
  },
  {
   "cell_type": "markdown",
   "metadata": {},
   "source": [
    "#### Stacking rows to get those maxima"
   ]
  },
  {
   "cell_type": "code",
   "execution_count": null,
   "metadata": {},
   "outputs": [],
   "source": [
    "stack_rows = np.sum(Ag, axis=0)"
   ]
  },
  {
   "cell_type": "code",
   "execution_count": null,
   "metadata": {},
   "outputs": [],
   "source": [
    "plt.figure(figsize=(12, 6))\n",
    "plt.plot(stack_rows, 'r')\n",
    "plt.yticks([])\n",
    "plt.show()"
   ]
  },
  {
   "cell_type": "code",
   "execution_count": null,
   "metadata": {},
   "outputs": [],
   "source": [
    "multiplicity = 2 # number of expected peaks except for central\n",
    "\n",
    "indexes, _ = signal.find_peaks(stack_rows, distance = len(stack_rows)/(2*multiplicity))\n",
    "indexes = np.delete(indexes, len(indexes)//2)"
   ]
  },
  {
   "cell_type": "code",
   "execution_count": null,
   "metadata": {},
   "outputs": [],
   "source": [
    "test = np.zeros(np.shape(Ag))\n",
    "rr, cc = ellipse(np.shape(Ag)[0]//2, indexes[0], 21, 21)\n",
    "rr1, cc1 = ellipse(np.shape(Ag)[0]//2, indexes[-1], 21, 21)\n",
    "test[rr, cc] = 1\n",
    "test[rr1, cc1] = 1"
   ]
  },
  {
   "cell_type": "code",
   "execution_count": null,
   "metadata": {},
   "outputs": [],
   "source": [
    "plt.figure(figsize=(12, 12))\n",
    "plt.imshow(test,  \n",
    "           cmap='gray', interpolation = 'none'), plt.axis('off');"
   ]
  },
  {
   "cell_type": "code",
   "execution_count": null,
   "metadata": {},
   "outputs": [],
   "source": [
    "gauss_kernel = scipy_gaussian_2D(15)\n",
    "filter00 = signal.fftconvolve(test, gauss_kernel, mode='same')\n",
    "filter00 = normalise(filter00)"
   ]
  },
  {
   "cell_type": "code",
   "execution_count": null,
   "metadata": {},
   "outputs": [],
   "source": [
    "plt.figure(figsize=(12, 12))\n",
    "plt.imshow(1-filter00, cmap='gray', interpolation = 'none'), plt.axis('off');"
   ]
  },
  {
   "cell_type": "code",
   "execution_count": null,
   "metadata": {},
   "outputs": [],
   "source": [
    "filtered1 = ifft2(np.multiply(ifftshift(1-filter00), fft2(test1.copy()))).real\n",
    "print(np.shape(filtered1))\n",
    "\n",
    "filtered1 = reverse_padding(sc, filtered1, slc)\n",
    "print(np.shape(filtered1))"
   ]
  },
  {
   "cell_type": "code",
   "execution_count": null,
   "metadata": {},
   "outputs": [],
   "source": [
    "compare_ssim(sc, filtered1)"
   ]
  },
  {
   "cell_type": "code",
   "execution_count": null,
   "metadata": {},
   "outputs": [],
   "source": [
    "diff = img_as_float(sc - filtered1)"
   ]
  },
  {
   "cell_type": "code",
   "execution_count": null,
   "metadata": {},
   "outputs": [],
   "source": [
    "# display results\n",
    "fig, axes = plt.subplots(3, 1, figsize=(16, 24), sharex=True, sharey=True)\n",
    "ax = axes.ravel()\n",
    "ax[0].imshow(sc, cmap='gray')\n",
    "ax[0].axis('off')\n",
    "ax[0].set_title('Original')\n",
    "ax[1].imshow(filtered1, cmap='gray')\n",
    "ax[1].axis('off')\n",
    "ax[1].set_title('Filtered')\n",
    "ax[2].imshow(diff, cmap='gray')\n",
    "ax[2].axis('off')\n",
    "ax[2].set_title('Difference')\n",
    "fig.tight_layout()\n",
    "plt.show()"
   ]
  },
  {
   "cell_type": "markdown",
   "metadata": {},
   "source": [
    "### A complete seismic example\n",
    "\n",
    "Let's use some time slices from the [Penobscot 3D](https://terranubis.com/datainfo/Penobscot), which is available under a [CC BY-SA license](https://creativecommons.org/licenses/by-sa/3.0/)."
   ]
  },
  {
   "cell_type": "markdown",
   "metadata": {},
   "source": [
    "#### Import the seismic data previously saved to npy file"
   ]
  },
  {
   "cell_type": "markdown",
   "metadata": {},
   "source": [
    "#### Access and display time slice at 948 ms which is at about the median time of Horizon B"
   ]
  },
  {
   "cell_type": "code",
   "execution_count": null,
   "metadata": {},
   "outputs": [],
   "source": [
    "penobscot = np.load('images and data/penobscot.npy')"
   ]
  },
  {
   "cell_type": "code",
   "execution_count": null,
   "metadata": {},
   "outputs": [],
   "source": [
    "samples = np.load('images and data/samples.npy')\n",
    "samples"
   ]
  },
  {
   "cell_type": "code",
   "execution_count": null,
   "metadata": {},
   "outputs": [],
   "source": [
    "slc948 = np.where(samples==948)[0]\n",
    "print(slc948)"
   ]
  },
  {
   "cell_type": "code",
   "execution_count": null,
   "metadata": {},
   "outputs": [],
   "source": [
    "t948 = normalise(np.squeeze(penobscot[:,:,slc948]))\n",
    "np.shape(t948)"
   ]
  },
  {
   "cell_type": "code",
   "execution_count": null,
   "metadata": {},
   "outputs": [],
   "source": [
    "fig = plt.figure(figsize=(22, 9))\n",
    "ax = fig.add_subplot(1, 1, 1)\n",
    "ax.set_xticks([])\n",
    "ax.set_yticks([])\n",
    "plt.imshow(t948, cmap='gray_r', aspect = 0.5, origin = 'lower', interpolation = 'none');  \n",
    "# aspect = 0.5 since the Inline bin size is 12.5 m/line and the Crossline bin size is 25 m/line\n",
    "plt.colorbar();"
   ]
  },
  {
   "cell_type": "markdown",
   "metadata": {},
   "source": [
    "#### View spectrum"
   ]
  },
  {
   "cell_type": "code",
   "execution_count": null,
   "metadata": {},
   "outputs": [],
   "source": [
    "test1, slc = pad_next_square_size(t948)"
   ]
  },
  {
   "cell_type": "code",
   "execution_count": null,
   "metadata": {},
   "outputs": [],
   "source": [
    "slc"
   ]
  },
  {
   "cell_type": "code",
   "execution_count": null,
   "metadata": {},
   "outputs": [],
   "source": [
    "A, _ = numpy_fft2(raised_cosine(test1))\n",
    "Ag = denoise_tv_chambolle(np.log(A +1), weight=0.2)  "
   ]
  },
  {
   "cell_type": "code",
   "execution_count": null,
   "metadata": {},
   "outputs": [],
   "source": [
    "fig = plt.figure(figsize=(12, 12))\n",
    "ax = fig.add_subplot(1, 1, 1)\n",
    "plt.imshow(np.log(A +1),  cmap='cubehelix', origin = 'lower', interpolation = 'none'), plt.axis('off');"
   ]
  },
  {
   "cell_type": "markdown",
   "metadata": {},
   "source": [
    "#### Design filter\n",
    "This time using rectangles; another good example of a good interactive feature to have (user drawn rectangles)"
   ]
  },
  {
   "cell_type": "code",
   "execution_count": null,
   "metadata": {},
   "outputs": [],
   "source": [
    "rec= np.zeros(np.shape(A), dtype=np.uint8)\n",
    "start1 = (np.shape(Ag)[0]//2+5,0)\n",
    "end1 = (np.shape(Ag)[0]//2-5,np.shape(Ag)[0]//2-50)\n",
    "rr1, cc1 = rectangle(start1, end=end1, shape=test.shape)\n",
    "rec[rr1, cc1] = 1\n",
    "\n",
    "start2 = (np.shape(Ag)[0]//2+5,np.shape(Ag)[0]//2+50)\n",
    "end2 = (np.shape(Ag)[0]//2-5,np.shape(Ag)[0]-1)\n",
    "rr2, cc2 = rectangle(start2, end=end2, shape=test.shape)\n",
    "rec[rr2, cc2] = 1"
   ]
  },
  {
   "cell_type": "markdown",
   "metadata": {},
   "source": [
    "#### Show filter design mask on top of spectrum"
   ]
  },
  {
   "cell_type": "code",
   "execution_count": null,
   "metadata": {},
   "outputs": [],
   "source": [
    "fig = plt.figure(figsize=(12, 12))\n",
    "ax = fig.add_subplot(1, 1, 1)\n",
    "plt.imshow(np.log(A +1),  cmap='cubehelix', origin = 'lower', interpolation = 'none'), plt.axis('off');\n",
    "plt.imshow(rec,  cmap='gray', origin = 'lower', interpolation = 'none', alpha = 0.2), plt.axis('off');"
   ]
  },
  {
   "cell_type": "markdown",
   "metadata": {},
   "source": [
    "#### Apply gaussian taper and display final filter on top of spectum"
   ]
  },
  {
   "cell_type": "code",
   "execution_count": null,
   "metadata": {},
   "outputs": [],
   "source": [
    "gauss_kernel = scipy_gaussian_2D(11)\n",
    "filter00 = signal.fftconvolve(rec, gauss_kernel, mode='same')\n",
    "filter00 = normalise(filter00)"
   ]
  },
  {
   "cell_type": "code",
   "execution_count": null,
   "metadata": {},
   "outputs": [],
   "source": [
    "fig = plt.figure(figsize=(12, 12))\n",
    "ax = fig.add_subplot(1, 1, 1)\n",
    "plt.imshow(np.log(A +1),  cmap='cubehelix', origin = 'lower', interpolation = 'none'), plt.axis('off');\n",
    "plt.imshow(1-filter00, cmap='gray', origin = 'lower', interpolation = 'none', alpha = 0.2), plt.axis('off');"
   ]
  },
  {
   "cell_type": "markdown",
   "metadata": {},
   "source": [
    "#### Apply filter and show input, output, difference"
   ]
  },
  {
   "cell_type": "code",
   "execution_count": null,
   "metadata": {},
   "outputs": [],
   "source": [
    "filtered1 = ifft2(np.multiply(ifftshift(1-filter00), fft2(test1.copy()))).real\n",
    "print(np.shape(filtered1))\n",
    "\n",
    "filtered1 = reverse_padding(t948, filtered1, slc)\n",
    "print(np.shape(filtered1))"
   ]
  },
  {
   "cell_type": "code",
   "execution_count": null,
   "metadata": {},
   "outputs": [],
   "source": [
    "diff = img_as_float(t948 - filtered1)"
   ]
  },
  {
   "cell_type": "code",
   "execution_count": null,
   "metadata": {},
   "outputs": [],
   "source": [
    "# display results\n",
    "fig, axes = plt.subplots(3, 1, figsize=(16, 26), sharex=True, sharey=True)\n",
    "ax = axes.ravel()\n",
    "ax[0].imshow(t948, cmap='gray', aspect = 0.5, origin = 'lower', interpolation = 'none')\n",
    "ax[0].axis('off')\n",
    "ax[0].set_title('Original')\n",
    "\n",
    "ax[1].imshow(filtered1, cmap='gray', aspect = 0.5, origin = 'lower', interpolation = 'none')\n",
    "ax[1].axis('off')\n",
    "ax[1].set_title('Filtered')\n",
    "\n",
    "ax[2].imshow(diff, cmap='gray', aspect = 0.5, origin = 'lower', interpolation = 'none')\n",
    "ax[2].axis('off')\n",
    "ax[2].set_title('Difference')\n",
    "\n",
    "fig.tight_layout()\n",
    "plt.show()"
   ]
  },
  {
   "cell_type": "markdown",
   "metadata": {},
   "source": [
    "#### Now we test the same filter on a deeper time slice, to ensure it is not too aggressive\n",
    "The time slice at 1136 ms is at about the median time of Horizon C"
   ]
  },
  {
   "cell_type": "code",
   "execution_count": null,
   "metadata": {},
   "outputs": [],
   "source": [
    "slc1136 = np.where(samples==1136)[0]\n",
    "print(slc1136)"
   ]
  },
  {
   "cell_type": "code",
   "execution_count": null,
   "metadata": {},
   "outputs": [],
   "source": [
    "t1136 = normalise(np.squeeze(penobscot[:,:,slc1136]))"
   ]
  },
  {
   "cell_type": "code",
   "execution_count": null,
   "metadata": {},
   "outputs": [],
   "source": [
    "test1, slc = pad_next_square_size(t1136)"
   ]
  },
  {
   "cell_type": "markdown",
   "metadata": {},
   "source": [
    "#### Apply filter and show input, output, difference"
   ]
  },
  {
   "cell_type": "code",
   "execution_count": null,
   "metadata": {},
   "outputs": [],
   "source": [
    "filtered1 = ifft2(np.multiply(ifftshift(1-filter00), fft2(test1.copy()))).real\n",
    "print(np.shape(filtered1))\n",
    "\n",
    "filtered1 = reverse_padding(t1136, filtered1, slc)\n",
    "print(np.shape(filtered1))"
   ]
  },
  {
   "cell_type": "code",
   "execution_count": null,
   "metadata": {},
   "outputs": [],
   "source": [
    "diff = img_as_float(t1136 - filtered1)"
   ]
  },
  {
   "cell_type": "code",
   "execution_count": null,
   "metadata": {},
   "outputs": [],
   "source": [
    "# display results\n",
    "fig, axes = plt.subplots(3, 1, figsize=(16, 26), sharex=True, sharey=True)\n",
    "ax = axes.ravel()\n",
    "ax[0].imshow(t1136, cmap='gray', aspect = 0.5, origin = 'lower', interpolation = 'none')\n",
    "ax[0].axis('off')\n",
    "ax[0].set_title('Original')\n",
    "\n",
    "ax[1].imshow(filtered1, cmap='gray', aspect = 0.5, origin = 'lower', interpolation = 'none')\n",
    "ax[1].axis('off')\n",
    "ax[1].set_title('Filtered')\n",
    "\n",
    "ax[2].imshow(diff, cmap='gray', aspect = 0.5, origin = 'lower', interpolation = 'none')\n",
    "ax[2].axis('off')\n",
    "ax[2].set_title('Difference')\n",
    "\n",
    "fig.tight_layout()\n",
    "plt.show()"
   ]
  },
  {
   "cell_type": "markdown",
   "metadata": {},
   "source": [
    "#### Apply filter to the whole cube then calculate semblance (before and after) and compare results to validate method"
   ]
  },
  {
   "cell_type": "markdown",
   "metadata": {},
   "source": [
    "The semblance code below is from [Semblance, coherence, and other discontinuity attributes\n",
    "](https://github.com/seg/tutorials-2015/blob/master/1512_Semblance_coherence_and_discontinuity/Discontinuity_tutorial.ipynb) a fantastic Geophysical tutorial bt Joe Kington, published in The Leading Edge in December 2015."
   ]
  },
  {
   "cell_type": "markdown",
   "metadata": {},
   "source": [
    "Running the cell below will take a looong time to run, please lad the .npy file instead."
   ]
  },
  {
   "cell_type": "code",
   "execution_count": null,
   "metadata": {},
   "outputs": [],
   "source": [
    "#def moving_window(data, window, func):\n",
    "#    # `generic_filter` will give the function 1D input. We'll reshape it for convinence\n",
    "#    wrapped = lambda region: func(region.reshape(window))\n",
    "    \n",
    "#    # Instead of an explicit for loop, we'll use a scipy function to do the same thing\n",
    "#    # The boundaries will be handled by \"reflecting\" the data, by default\n",
    "#    return sp.ndimage.generic_filter(data, wrapped, window)"
   ]
  },
  {
   "cell_type": "code",
   "execution_count": null,
   "metadata": {},
   "outputs": [],
   "source": [
    "#def gersztenkorn_eigenstructure(region):\n",
    "#    # Once again, stack all of the traces into one 2D array.\n",
    "#    region = region.reshape(-1, region.shape[-1])\n",
    "\n",
    "#    cov = region.dot(region.T)\n",
    "#    vals = np.linalg.eigvalsh(cov)\n",
    "#    return vals.max() / vals.sum()"
   ]
  },
  {
   "cell_type": "code",
   "execution_count": null,
   "metadata": {},
   "outputs": [],
   "source": [
    "#gersztenkorn = moving_window(penobscot, (3, 3, 9), gersztenkorn_eigenstructure)"
   ]
  },
  {
   "cell_type": "code",
   "execution_count": null,
   "metadata": {},
   "outputs": [],
   "source": [
    "#np.save('images and data/gersztenkorn.npy', gersztenkorn)"
   ]
  },
  {
   "cell_type": "code",
   "execution_count": null,
   "metadata": {},
   "outputs": [],
   "source": [
    "#gersztenkorn = np.load('images and data/gersztenkorn.npy')"
   ]
  },
  {
   "cell_type": "markdown",
   "metadata": {},
   "source": [
    "__N.B. The cell below is not efficient. It is the code to apply the 2D filter to the full 3D volume.\n",
    "It needs to be rewritten using broadcasting.__"
   ]
  },
  {
   "cell_type": "code",
   "execution_count": null,
   "metadata": {},
   "outputs": [],
   "source": [
    "#penobscot_filt = penobscot.copy()\n",
    "#for i,_ in enumerate(p.samples):\n",
    "#    ts, slc = pad_next_square_size(penobscot_filt[:,:,i])\n",
    "#    temp = ifft2(np.multiply(ifftshift(1-filter00), fft2(ts.copy()))).real\n",
    "#    penobscot_filt[:,:,i] = reverse_padding(penobscot[:,:,i], temp, slc)"
   ]
  },
  {
   "cell_type": "code",
   "execution_count": null,
   "metadata": {},
   "outputs": [],
   "source": [
    "#np.save('images and data/penobscot_filtered.npy', penobscot_filt)"
   ]
  },
  {
   "cell_type": "code",
   "execution_count": null,
   "metadata": {},
   "outputs": [],
   "source": [
    "#penobscot_filt = np.load('images and data/penobscot_filtered.npy')"
   ]
  },
  {
   "cell_type": "code",
   "execution_count": null,
   "metadata": {},
   "outputs": [],
   "source": [
    "#gersztenkorn_filt = moving_window(penobscot_filt, (3, 3, 9), gersztenkorn_eigenstructure)"
   ]
  },
  {
   "cell_type": "code",
   "execution_count": null,
   "metadata": {},
   "outputs": [],
   "source": [
    "#np.save('images and data/gersztenkorn_filtered.npy', gersztenkorn_filt)"
   ]
  },
  {
   "cell_type": "code",
   "execution_count": null,
   "metadata": {},
   "outputs": [],
   "source": [
    "gersztenkorn = np.load('images and data/gersztenkorn.npy')\n",
    "gersztenkorn_filt=np.load('images and data/gersztenkorn_filtered.npy')"
   ]
  },
  {
   "cell_type": "code",
   "execution_count": null,
   "metadata": {},
   "outputs": [],
   "source": [
    "# display results\n",
    "fig, axes = plt.subplots(2, 1, figsize=(14, 16), sharex=True, sharey=True)\n",
    "ax = axes.ravel()\n",
    "ax[0].imshow(np.squeeze(normalise(gersztenkorn[:,:,slc1136])), cmap='gray', aspect = 0.5, origin = 'lower', interpolation = 'none')\n",
    "ax[0].axis('off')\n",
    "ax[0].set_title('Semblance of original data')\n",
    "\n",
    "ax[1].imshow(np.squeeze(normalise(gersztenkorn_filt[:,:,slc1136])), cmap='gray', aspect = 0.5, origin = 'lower', interpolation = 'none')\n",
    "ax[1].axis('off')\n",
    "ax[1].set_title('Semblance of filtered data')\n",
    "\n",
    "fig.tight_layout()\n",
    "plt.show()"
   ]
  },
  {
   "cell_type": "code",
   "execution_count": null,
   "metadata": {},
   "outputs": [],
   "source": [
    "# display results\n",
    "fig, axes = plt.subplots(2, 1, figsize=(14, 16), sharex=True, sharey=True)\n",
    "ax = axes.ravel()\n",
    "ax[0].imshow(normalise(Sobel_2d((np.squeeze(gersztenkorn[:,:,slc1136])))), cmap='gray_r', aspect = 0.5, origin = 'lower', interpolation = 'none')\n",
    "ax[0].axis('off')\n",
    "ax[0].set_title('2D Sobel result on the semblance of original data')   \n",
    "\n",
    "ax[1].imshow(normalise(Sobel_2d(np.squeeze(gersztenkorn_filt[:,:,slc1136]))), cmap='gray_r', aspect = 0.5, origin = 'lower', interpolation = 'none')\n",
    "ax[1].axis('off')\n",
    "ax[1].set_title('2D Sobel result on the semblance of filtered data')\n",
    "\n",
    "fig.tight_layout()\n",
    "plt.show()"
   ]
  },
  {
   "cell_type": "markdown",
   "metadata": {},
   "source": [
    "### ANOTHER IMAGE EXAMPLE\n",
    "\n",
    "__Moon landing picture__\n",
    "\n",
    "*COMING SOON*"
   ]
  },
  {
   "cell_type": "markdown",
   "metadata": {},
   "source": [
    "### A FORENSIC EXAMPLE\n",
    "\n",
    "__Try fingerprint clean-up using image from [this example](https://4n6site.com/improc/fftplugin/howto.htm)__\n",
    "\n",
    "*COMING SOON*"
   ]
  }
 ],
 "metadata": {
  "anaconda-cloud": {},
  "kernelspec": {
   "display_name": "Python 3",
   "language": "python",
   "name": "python3"
  },
  "language_info": {
   "codemirror_mode": {
    "name": "ipython",
    "version": 3
   },
   "file_extension": ".py",
   "mimetype": "text/x-python",
   "name": "python",
   "nbconvert_exporter": "python",
   "pygments_lexer": "ipython3",
   "version": "3.8.5"
  }
 },
 "nbformat": 4,
 "nbformat_minor": 4
}
