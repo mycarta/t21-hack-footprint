{
 "cells": [
  {
   "cell_type": "code",
   "execution_count": 1,
   "metadata": {},
   "outputs": [],
   "source": [
    "import numpy as np\n",
    "from pooch import retrieve\n",
    "import segyio\n",
    "%matplotlib widget\n",
    "import matplotlib.pyplot as plt\n",
    "import ipywidgets as widgets"
   ]
  },
  {
   "cell_type": "markdown",
   "metadata": {},
   "source": [
    "### Loading [Penobscot 3D](https://terranubis.com/datainfo/Penobscot) \n",
    "Available under a [CC BY-SA license](https://creativecommons.org/licenses/by-sa/3.0/)"
   ]
  },
  {
   "cell_type": "markdown",
   "metadata": {},
   "source": [
    "seismic_fname = retrieve(\n",
    "    url=\"https://www.dropbox.com/s/hw8fgp4lyxi1a13/Penobscot_IL_1080-1540_XL_1020-1460_TWT_0-6000.sgy?raw=1\",\n",
    "    #known_hash=None,   # If downloading for the first time:\n",
    "                        # 1) set known_hash=None to avoid the check\n",
    "                        # 2) Pooch will  print out the hash of the file to copy and paste below\n",
    "    known_hash=\"0170c07df963cd297c0058cf5fa3cfdbfc876a8eaedcf3194fb968edd0f46739\",\n",
    ")"
   ]
  },
  {
   "cell_type": "code",
   "execution_count": 5,
   "metadata": {},
   "outputs": [],
   "source": [
    "seismic_fname = retrieve(\n",
    "    url=\"https://www.dropbox.com/s/hw8fgp4lyxi1a13/Penobscot_IL_1080-1540_XL_1020-1460_TWT_0-6000.sgy?raw=1\",\n",
    "    #known_hash=None,   # If downloading for the first time:\n",
    "                        # 1) set known_hash=None to avoid the check\n",
    "                        # 2) Pooch will  print out the hash of the file to copy and paste below\n",
    "    known_hash=\"0170c07df963cd297c0058cf5fa3cfdbfc876a8eaedcf3194fb968edd0f46739\",\n",
    ")"
   ]
  },
  {
   "cell_type": "code",
   "execution_count": 6,
   "metadata": {},
   "outputs": [],
   "source": [
    "with segyio.open(seismic_fname) as p:\n",
    "    penobscot = segyio.cube(p)"
   ]
  },
  {
   "cell_type": "code",
   "execution_count": 7,
   "metadata": {},
   "outputs": [
    {
     "name": "stdout",
     "output_type": "stream",
     "text": [
      "[ 0.  4.  8. 12. 16. 20. 24. 28. 32. 36.] [5964. 5968. 5972. 5976. 5980. 5984. 5988. 5992. 5996. 6000.]\n"
     ]
    }
   ],
   "source": [
    "times = p.samples\n",
    "print (times[:10], times[-10:])"
   ]
  },
  {
   "cell_type": "markdown",
   "metadata": {},
   "source": [
    "To make the slider show the value of twt instead of sample number, check [this thread](https://discourse.matplotlib.org/t/changing-the-text-displayed-by-slider-in-real-time-using-a-custom-array/22047)"
   ]
  },
  {
   "cell_type": "code",
   "execution_count": 8,
   "metadata": {},
   "outputs": [
    {
     "data": {
      "application/vnd.jupyter.widget-view+json": {
       "model_id": "2724c9a47f6241a8b323c136744fa5f6",
       "version_major": 2,
       "version_minor": 0
      },
      "text/plain": [
       "VBox(children=(IntSlider(value=100, description='Sample:', max=1500), Canvas(capture_scroll=True, footer_visib…"
      ]
     },
     "metadata": {},
     "output_type": "display_data"
    }
   ],
   "source": [
    "plt.ioff()\n",
    "\n",
    "fig = plt.figure()\n",
    "plt.axis('off')\n",
    "fig.canvas.toolbar_visible = False\n",
    "fig.canvas.header_visible = False\n",
    "fig.canvas.footer_visible = False\n",
    "fig.canvas.capture_scroll = True\n",
    "\n",
    "plt.ion()\n",
    "im = plt.imshow(penobscot[:, :, 100], cmap='gray_r', aspect = 0.6, origin = 'lower', interpolation = 'none')\n",
    "\n",
    "def update(change):\n",
    "    im.set_data(penobscot[:, :, change['new']])\n",
    "    fig.canvas.draw_idle()  \n",
    "\n",
    "slider = widgets.IntSlider(value=100, min=0, max=len(times)-1, description ='Sample:')\n",
    "slider.observe(update, names='value')\n",
    "widgets.VBox([slider, fig.canvas])"
   ]
  },
  {
   "cell_type": "code",
   "execution_count": null,
   "metadata": {},
   "outputs": [],
   "source": []
  }
 ],
 "metadata": {
  "anaconda-cloud": {},
  "kernelspec": {
   "display_name": "Python 3",
   "language": "python",
   "name": "python3"
  },
  "language_info": {
   "codemirror_mode": {
    "name": "ipython",
    "version": 3
   },
   "file_extension": ".py",
   "mimetype": "text/x-python",
   "name": "python",
   "nbconvert_exporter": "python",
   "pygments_lexer": "ipython3",
   "version": "3.8.5"
  }
 },
 "nbformat": 4,
 "nbformat_minor": 4
}
