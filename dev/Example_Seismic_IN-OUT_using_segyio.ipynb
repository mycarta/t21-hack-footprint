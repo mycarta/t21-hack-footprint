{
 "cells": [
  {
   "cell_type": "code",
   "execution_count": 1,
   "metadata": {},
   "outputs": [],
   "source": [
    "import numpy as np\n",
    "from pooch import retrieve\n",
    "import segyio"
   ]
  },
  {
   "cell_type": "markdown",
   "metadata": {},
   "source": [
    "### Loading Penobscot 3D\n",
    "\n",
    "The [Penobscot 3D](https://terranubis.com/datainfo/Penobscot), which is available under a [CC BY-SA license](https://creativecommons.org/licenses/by-sa/3.0/)."
   ]
  },
  {
   "cell_type": "markdown",
   "metadata": {},
   "source": [
    "#### Import the seismic data and run some tests\n",
    "\n",
    "The seismic volume is too large and will not fit in the repo. Using `pooch` to retrieve the segy stored in these Dropbox locations:\n",
    "\n",
    "https://www.dropbox.com/s/seo668a3bssnrme/Penobscot_IL_1080-1540_XL_1020-1460_TWT_0-2500.sgy?raw=1"
   ]
  },
  {
   "cell_type": "code",
   "execution_count": 2,
   "metadata": {},
   "outputs": [
    {
     "name": "stderr",
     "output_type": "stream",
     "text": [
      "Downloading data from 'https://www.dropbox.com/s/seo668a3bssnrme/Penobscot_IL_1080-1540_XL_1020-1460_TWT_0-2500.sgy?raw=1' to file '/Users/matteoniccoli/Library/Caches/pooch/2eb253b10a5b4c8fa5bfeb1d820a25b6-Penobscot_IL_1080-1540_XL_1020-1460_TWT_0-2500.sgy'.\n"
     ]
    }
   ],
   "source": [
    "seismic_fname = retrieve(\n",
    "    url=\"https://www.dropbox.com/s/seo668a3bssnrme/Penobscot_IL_1080-1540_XL_1020-1460_TWT_0-2500.sgy?raw=1\",\n",
    "    known_hash=\"ed69d5c06d8d97dd08e3435d6212188fdc9ab496853eed3737db686995131a42\",\n",
    ")"
   ]
  },
  {
   "cell_type": "code",
   "execution_count": 3,
   "metadata": {},
   "outputs": [],
   "source": [
    "with segyio.open(seismic_fname) as p:\n",
    "    penobscot = segyio.cube(p)"
   ]
  },
  {
   "cell_type": "code",
   "execution_count": 4,
   "metadata": {},
   "outputs": [
    {
     "name": "stdout",
     "output_type": "stream",
     "text": [
      "Is inline the fast mode? True\n"
     ]
    }
   ],
   "source": [
    "print('Is inline the fast mode? ' + str(p.fast is p.iline))"
   ]
  },
  {
   "cell_type": "code",
   "execution_count": 5,
   "metadata": {},
   "outputs": [
    {
     "data": {
      "text/plain": [
       "(461, 441, 626)"
      ]
     },
     "execution_count": 5,
     "metadata": {},
     "output_type": "execute_result"
    }
   ],
   "source": [
    "np.shape(penobscot)"
   ]
  },
  {
   "cell_type": "code",
   "execution_count": 6,
   "metadata": {},
   "outputs": [
    {
     "name": "stdout",
     "output_type": "stream",
     "text": [
      "0 460\n",
      "1080 1540\n"
     ]
    }
   ],
   "source": [
    "dim = np.shape(penobscot)\n",
    "idx = np.arange(0, dim[0])\n",
    "print(np.amin(idx), np.amax(idx))\n",
    "\n",
    "lns = np.arange(np.amin(p.ilines), np.amax(p.ilines)+1)\n",
    "print(np.amin(lns), np.amax(lns))"
   ]
  },
  {
   "cell_type": "code",
   "execution_count": 7,
   "metadata": {},
   "outputs": [
    {
     "name": "stdout",
     "output_type": "stream",
     "text": [
      "626\n"
     ]
    }
   ],
   "source": [
    "print(np.shape(p.samples)[0])"
   ]
  },
  {
   "cell_type": "code",
   "execution_count": 8,
   "metadata": {},
   "outputs": [
    {
     "name": "stdout",
     "output_type": "stream",
     "text": [
      "[ 0.  4.  8. 12. 16. 20. 24. 28. 32. 36.] [2464. 2468. 2472. 2476. 2480. 2484. 2488. 2492. 2496. 2500.]\n"
     ]
    }
   ],
   "source": [
    "print(p.samples[:10], p.samples[-10:])"
   ]
  },
  {
   "cell_type": "markdown",
   "metadata": {},
   "source": [
    "### Export to npy file"
   ]
  },
  {
   "cell_type": "raw",
   "metadata": {},
   "source": [
    "np.save('../images_and_data/Penobscot_IL_1080-1540_XL_1020-1460_TWT_0-2500_samples.npy', p.samples)"
   ]
  },
  {
   "cell_type": "raw",
   "metadata": {},
   "source": [
    "np.save('../images_and_data/Penobscot_IL_1080-1540_XL_1020-1460_TWT_0-2500.npy', penobscot)"
   ]
  }
 ],
 "metadata": {
  "anaconda-cloud": {},
  "kernelspec": {
   "display_name": "Python 3",
   "language": "python",
   "name": "python3"
  },
  "language_info": {
   "codemirror_mode": {
    "name": "ipython",
    "version": 3
   },
   "file_extension": ".py",
   "mimetype": "text/x-python",
   "name": "python",
   "nbconvert_exporter": "python",
   "pygments_lexer": "ipython3",
   "version": "3.8.5"
  }
 },
 "nbformat": 4,
 "nbformat_minor": 4
}
