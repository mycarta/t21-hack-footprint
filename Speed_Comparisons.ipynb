{
 "cells": [
  {
   "cell_type": "markdown",
   "metadata": {},
   "source": [
    "# Comparison between different implementations for applying filter to a 3D volume\n",
    "\n",
    "methods:\n",
    "- Iterative mycarta's original implementation\n",
    "- Vectorized Numpy\n",
    "- Vecotrized Dask using numpy calls \n",
    "- Vecotrized Dask using dask calls "
   ]
  },
  {
   "cell_type": "code",
   "execution_count": 1,
   "metadata": {},
   "outputs": [],
   "source": [
    "from dask.distributed import Client # Used to create a LocalCluster on machine()\n",
    "import numpy as np\n",
    "from smallfoot import utils # holds tools"
   ]
  },
  {
   "cell_type": "markdown",
   "metadata": {},
   "source": [
    "Hot reloading of libs mainly smallfoot"
   ]
  },
  {
   "cell_type": "code",
   "execution_count": 2,
   "metadata": {},
   "outputs": [],
   "source": [
    "%load_ext autoreload\n",
    "%autoreload 2"
   ]
  },
  {
   "cell_type": "markdown",
   "metadata": {},
   "source": [
    "## Create the client cluster \n",
    "\n",
    "Here we create the dask cluster, using default params this can be played with but gives a good first approximation"
   ]
  },
  {
   "cell_type": "code",
   "execution_count": 3,
   "metadata": {},
   "outputs": [
    {
     "data": {
      "text/html": [
       "<table style=\"border: 2px solid white;\">\n",
       "<tr>\n",
       "<td style=\"vertical-align: top; border: 0px solid white\">\n",
       "<h3 style=\"text-align: left;\">Client</h3>\n",
       "<ul style=\"text-align: left; list-style: none; margin: 0; padding: 0;\">\n",
       "  <li><b>Scheduler: </b>tcp://127.0.0.1:60357</li>\n",
       "  <li><b>Dashboard: </b><a href='http://127.0.0.1:8787/status' target='_blank'>http://127.0.0.1:8787/status</a></li>\n",
       "</ul>\n",
       "</td>\n",
       "<td style=\"vertical-align: top; border: 0px solid white\">\n",
       "<h3 style=\"text-align: left;\">Cluster</h3>\n",
       "<ul style=\"text-align: left; list-style:none; margin: 0; padding: 0;\">\n",
       "  <li><b>Workers: </b>4</li>\n",
       "  <li><b>Cores: </b>8</li>\n",
       "  <li><b>Memory: </b>17.18 GB</li>\n",
       "</ul>\n",
       "</td>\n",
       "</tr>\n",
       "</table>"
      ],
      "text/plain": [
       "<Client: 'tcp://127.0.0.1:60357' processes=4 threads=8, memory=17.18 GB>"
      ]
     },
     "execution_count": 3,
     "metadata": {},
     "output_type": "execute_result"
    }
   ],
   "source": [
    "Client()"
   ]
  },
  {
   "cell_type": "markdown",
   "metadata": {},
   "source": [
    "## Load in the data and create the filter"
   ]
  },
  {
   "cell_type": "code",
   "execution_count": 4,
   "metadata": {},
   "outputs": [],
   "source": [
    "penobscot = np.load('images_and_data/penobscot.npy')\n",
    "arr, _ = utils.pad_next_square_size(penobscot)"
   ]
  },
  {
   "cell_type": "code",
   "execution_count": 5,
   "metadata": {},
   "outputs": [],
   "source": [
    "from skimage.draw import rectangle\n",
    "from scipy import signal\n",
    "\n",
    "def scipy_gaussian_2D(std):\n",
    "    '''\n",
    "    2D Gaussian filter kernel similar to astropy\\'s Gaussian2DKernel\n",
    "    (https://docs.astropy.org/en/stable/api/astropy.convolution.Gaussian2DKernel.html#astropy.convolution.Gaussian2DKernel)\n",
    "    using scipy.signal.gaussian \n",
    "    (and inspired by https://gist.github.com/thomasaarholt/267ec4fff40ca9dff1106490ea3b7567)\n",
    "    \n",
    "    Parameters: \n",
    "    std (int) : standard deviation of the Gaussian in pixels\n",
    "    \n",
    "    Returns:\n",
    "    out (2D array): 2D Gaussian filter kernel\n",
    "    '''\n",
    "    ksp1D = signal.gaussian(std*8+1, std)\n",
    "    ksp2D = np.outer(ksp1D, ksp1D)\n",
    "    ksp2D /= (2*np.pi*(std**2))\n",
    "    return ksp2D\n",
    "\n",
    "A = Ag = test1 = arr[:, :, 0]\n",
    "rec= np.zeros(np.shape(A), dtype=np.uint8)\n",
    "start1 = (np.shape(Ag)[0]//2+5,0)\n",
    "end1 = (np.shape(Ag)[0]//2-5,np.shape(Ag)[0]//2-50)\n",
    "rr1, cc1 = rectangle(start1, end=end1, shape=test1.shape)\n",
    "rec[rr1, cc1] = 1\n",
    "\n",
    "start2 = (np.shape(Ag)[0]//2+5,np.shape(Ag)[0]//2+50)\n",
    "end2 = (np.shape(Ag)[0]//2-5,np.shape(Ag)[0]-1)\n",
    "rr2, cc2 = rectangle(start2, end=end2, shape=test1.shape)\n",
    "rec[rr2, cc2] = 1\n",
    "\n",
    "gauss_kernel = scipy_gaussian_2D(11)\n",
    "filter00 = signal.fftconvolve(rec, gauss_kernel, mode='same')\n",
    "filter00 = utils.normalise(filter00)"
   ]
  },
  {
   "cell_type": "markdown",
   "metadata": {},
   "source": [
    "# Comparison"
   ]
  },
  {
   "cell_type": "code",
   "execution_count": 9,
   "metadata": {},
   "outputs": [
    {
     "name": "stdout",
     "output_type": "stream",
     "text": [
      "2.4 s ± 52.9 ms per loop (mean ± std. dev. of 7 runs, 1 loop each)\n"
     ]
    }
   ],
   "source": [
    "%%timeit\n",
    "utils.apply_filter_iterative(filter00, penobscot)"
   ]
  },
  {
   "cell_type": "code",
   "execution_count": 8,
   "metadata": {},
   "outputs": [
    {
     "name": "stdout",
     "output_type": "stream",
     "text": [
      "2.53 s ± 14.8 ms per loop (mean ± std. dev. of 7 runs, 1 loop each)\n"
     ]
    }
   ],
   "source": [
    "%%timeit\n",
    "utils.apply_filter_vector(filter00, penobscot)"
   ]
  },
  {
   "cell_type": "code",
   "execution_count": 6,
   "metadata": {},
   "outputs": [
    {
     "name": "stdout",
     "output_type": "stream",
     "text": [
      "1.25 s ± 97.5 ms per loop (mean ± std. dev. of 7 runs, 1 loop each)\n"
     ]
    }
   ],
   "source": [
    "%%timeit\n",
    "utils.apply_filter_vector_dask(filter00, penobscot).compute()"
   ]
  },
  {
   "cell_type": "code",
   "execution_count": 7,
   "metadata": {},
   "outputs": [
    {
     "name": "stdout",
     "output_type": "stream",
     "text": [
      "1.21 s ± 104 ms per loop (mean ± std. dev. of 7 runs, 1 loop each)\n"
     ]
    }
   ],
   "source": [
    "%%timeit\n",
    "utils.apply_filter_vector_dask_true(filter00, penobscot).compute()"
   ]
  }
 ],
 "metadata": {
  "kernelspec": {
   "display_name": "Python 3 (pangeo)",
   "language": "python",
   "name": "pangeo"
  },
  "language_info": {
   "codemirror_mode": {
    "name": "ipython",
    "version": 3
   },
   "file_extension": ".py",
   "mimetype": "text/x-python",
   "name": "python",
   "nbconvert_exporter": "python",
   "pygments_lexer": "ipython3",
   "version": "3.8.5"
  }
 },
 "nbformat": 4,
 "nbformat_minor": 4
}
